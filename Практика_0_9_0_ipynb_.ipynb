{
  "nbformat": 4,
  "nbformat_minor": 0,
  "metadata": {
    "colab": {
      "provenance": []
    },
    "kernelspec": {
      "name": "python3",
      "display_name": "Python 3"
    },
    "language_info": {
      "name": "python"
    }
  },
  "cells": [
    {
      "cell_type": "markdown",
      "source": [
        "ФИО"
      ],
      "metadata": {
        "id": "8hJfL9b2l439"
      }
    },
    {
      "cell_type": "code",
      "source": [
        "Есмуханов Арман Еркинович"
      ],
      "metadata": {
        "id": "wRnqvYOkl6EX"
      },
      "execution_count": null,
      "outputs": []
    },
    {
      "cell_type": "markdown",
      "source": [
        "# Дисклеймер"
      ],
      "metadata": {
        "id": "weOtPwPQmgpD"
      }
    },
    {
      "cell_type": "markdown",
      "source": [
        "В данной практике вам необходимо применить все ваши знания по темам:\n",
        "\n",
        "- Функции\n",
        "- Словари\n",
        "- Списки\n",
        "- Множества\n",
        "- Условные конструкции\n",
        "- Запросы\n",
        "\n",
        "и все что было изучено на прошлых практических занятиях\n",
        "\n",
        "В каждом задании кратко описаны функции, которые необходимо реализовать, детали реализации вы должны продумать самостоятельно.\n",
        "\n",
        "# **Дисклеймер 2**\n",
        "\n",
        "В данной практике также учитывается критерий: чистота и читаемость кода"
      ],
      "metadata": {
        "id": "LznB3uscmjDa"
      }
    },
    {
      "cell_type": "markdown",
      "source": [
        "# Задание 0"
      ],
      "metadata": {
        "id": "7nSJIqkTvC_C"
      }
    },
    {
      "cell_type": "markdown",
      "source": [
        "Создайте функцию по нахождению уникальных элементов из двух списков\n",
        "\n",
        "\n",
        "\n",
        "```\n",
        "a = [1, 2, 3, 4]\n",
        "b = [3, 4, 5, 6]\n",
        "```\n",
        "\n"
      ],
      "metadata": {
        "id": "exACjTiVvGUe"
      }
    },
    {
      "cell_type": "code",
      "source": [
        "def find_unique_elem(list1,list2):\n",
        "  unified_list = set.union(set(list1), set(list2))\n",
        "  return unified_list\n",
        "\n",
        "a = [1, 2, 3, 4]\n",
        "b = [3, 4, 5, 6]\n",
        "print(find_unique_elem(a,b))"
      ],
      "metadata": {
        "id": "V_31CrfGbH7V",
        "outputId": "0a9d33b1-04bc-430c-ecc4-ccb22e290526",
        "colab": {
          "base_uri": "https://localhost:8080/"
        }
      },
      "execution_count": null,
      "outputs": [
        {
          "output_type": "stream",
          "name": "stdout",
          "text": [
            "{1, 2, 3, 4, 5, 6}\n"
          ]
        }
      ]
    },
    {
      "cell_type": "markdown",
      "source": [
        "# Задание 1"
      ],
      "metadata": {
        "id": "SVWNlBALpCNo"
      }
    },
    {
      "cell_type": "markdown",
      "source": [
        "Симулятор виртуального питомца\n",
        "\n",
        "Цель: создать виртуальный симулятор домашних животных, в котором пользователи смогут заводить питомцев и ухаживать за ними.\n",
        "\n",
        "Требования:\n",
        "\n",
        "- Функция для усыновления питомца (имя, тип, возраст).\n",
        "- Функция для того, чтобы покормить питомца, поиграть с ним или уложить его спать.\n",
        "- Функция для отображения состояния питомца (голод, радость, энергия)."
      ],
      "metadata": {
        "id": "RcKA-VEqpC7f"
      }
    },
    {
      "cell_type": "code",
      "source": [
        "def adopt_pet():\n",
        "  pet_name = input(\"Введите имя питомца \")\n",
        "  pet_type = input(\"Введите тип питомца \")\n",
        "  pet_age = input(\"Введите возраст питомца \")\n",
        "  pet_state = ('голодный', \"грустный\", \"уставший\")\n",
        "  pet_list[pet_name] = [pet_age, pet_type, pet_state]\n",
        "\n",
        "  return f'Вы создали питомца {pet_name} типа {pet_type} с возрастом {pet_age}!'\n",
        "\n",
        "\n",
        "def interact_with_pet(pet_name, command):\n",
        "  if command == 'feed':\n",
        "    pet_list[pet_name][0] = 'сытый'\n",
        "    return f'вы покормили питомца {pet_name}'\n",
        "  elif command == 'play':\n",
        "    pet_list[pet_name][1] = 'радостный'\n",
        "    return f'вы поигрались с питомцем {pet_name}'\n",
        "  elif command == 'sleep':\n",
        "    pet_list[pet_name][2] = 'заряженный'\n",
        "    return f'вы уложили питомца {pet_name}... спать ))'\n",
        "\n",
        "\n",
        "def show_state_pet(pet_name):\n",
        "  return f'состояние питомца {pet_name}: {pet_list[pet_name][2]}'\n",
        "\n",
        "\n",
        "pet_list = {\n",
        "\n",
        "}\n",
        "\n",
        "print('добро пожаловать в виртуальный симулятор домашних животных, в вы сможете заводить питомцев и ухаживать за ними')\n",
        "\n",
        "while True:\n",
        "  command = input('выберите команду: усыновить, взаимодействовать с или показать состояние питомца. введите 0, чтобы прервать программу ')\n",
        "  if command == 'усыновить':\n",
        "    adopt_pet()\n",
        "  elif 'взаимодействовать' in command:\n",
        "    cmd = input('что вы хотите сделать с питомцем? feed - покормить, play - поиграть, sleep - уложить спать')\n",
        "    print(interact_with_pet(command.split()[-1], cmd))\n",
        "  elif \"показать состояние\" in command:\n",
        "    print(show_state_pet(command.split()[-1]))\n",
        "  elif command == '0':\n",
        "    exit()\n",
        "  else:\n",
        "    print('несуществующая команда')"
      ],
      "metadata": {
        "id": "hE7mF-HXpJLO",
        "outputId": "50f54e40-a15c-4fdd-ad6b-440bde2d877f",
        "colab": {
          "base_uri": "https://localhost:8080/",
          "height": 367
        }
      },
      "execution_count": null,
      "outputs": [
        {
          "name": "stdout",
          "output_type": "stream",
          "text": [
            "добро пожаловать в виртуальный симулятор домашних животных, в вы сможете заводить питомцев и ухаживать за ними\n",
            "выберите команду: усыновить, взаимодействовать с или показать состояние питомца. введите 0, чтобы прервать программу усыновить\n",
            "Введите имя питомца грот\n",
            "Введите тип питомца дер\n",
            "Введите возраст питомца 134\n",
            "выберите команду: усыновить, взаимодействовать с или показать состояние питомца. введите 0, чтобы прервать программу показать состояние грот\n",
            "состояние питомца грот: ['134', 'дер', ('голодный', 'грустный', 'уставший')]\n",
            "выберите команду: усыновить, взаимодействовать с или показать состояние питомца. введите 0, чтобы прервать программу взаимодействовать с грот\n",
            "что вы хотите сделать с питомцем? feed - покормить, play - поиграть, sleep - уложить спатьfeed\n"
          ]
        },
        {
          "output_type": "error",
          "ename": "TypeError",
          "evalue": "interact_with_pet() missing 1 required positional argument: 'command'",
          "traceback": [
            "\u001b[0;31m---------------------------------------------------------------------------\u001b[0m",
            "\u001b[0;31mTypeError\u001b[0m                                 Traceback (most recent call last)",
            "\u001b[0;32m<ipython-input-12-0427f7c004a4>\u001b[0m in \u001b[0;36m<cell line: 33>\u001b[0;34m()\u001b[0m\n\u001b[1;32m     37\u001b[0m   \u001b[0;32melif\u001b[0m \u001b[0;34m'взаимодействовать'\u001b[0m \u001b[0;32min\u001b[0m \u001b[0mcommand\u001b[0m\u001b[0;34m:\u001b[0m\u001b[0;34m\u001b[0m\u001b[0;34m\u001b[0m\u001b[0m\n\u001b[1;32m     38\u001b[0m     \u001b[0mcmd\u001b[0m \u001b[0;34m=\u001b[0m \u001b[0minput\u001b[0m\u001b[0;34m(\u001b[0m\u001b[0;34m'что вы хотите сделать с питомцем? feed - покормить, play - поиграть, sleep - уложить спать'\u001b[0m\u001b[0;34m)\u001b[0m\u001b[0;34m\u001b[0m\u001b[0;34m\u001b[0m\u001b[0m\n\u001b[0;32m---> 39\u001b[0;31m     \u001b[0mprint\u001b[0m\u001b[0;34m(\u001b[0m\u001b[0minteract_with_pet\u001b[0m\u001b[0;34m(\u001b[0m\u001b[0mcommand\u001b[0m\u001b[0;34m.\u001b[0m\u001b[0msplit\u001b[0m\u001b[0;34m(\u001b[0m\u001b[0;34m)\u001b[0m\u001b[0;34m[\u001b[0m\u001b[0;34m-\u001b[0m\u001b[0;36m1\u001b[0m\u001b[0;34m]\u001b[0m\u001b[0;34m)\u001b[0m\u001b[0;34m,\u001b[0m \u001b[0mcmd\u001b[0m\u001b[0;34m)\u001b[0m\u001b[0;34m\u001b[0m\u001b[0;34m\u001b[0m\u001b[0m\n\u001b[0m\u001b[1;32m     40\u001b[0m   \u001b[0;32melif\u001b[0m \u001b[0;34m\"показать состояние\"\u001b[0m \u001b[0;32min\u001b[0m \u001b[0mcommand\u001b[0m\u001b[0;34m:\u001b[0m\u001b[0;34m\u001b[0m\u001b[0;34m\u001b[0m\u001b[0m\n\u001b[1;32m     41\u001b[0m     \u001b[0mprint\u001b[0m\u001b[0;34m(\u001b[0m\u001b[0mshow_state_pet\u001b[0m\u001b[0;34m(\u001b[0m\u001b[0mcommand\u001b[0m\u001b[0;34m.\u001b[0m\u001b[0msplit\u001b[0m\u001b[0;34m(\u001b[0m\u001b[0;34m)\u001b[0m\u001b[0;34m[\u001b[0m\u001b[0;34m-\u001b[0m\u001b[0;36m1\u001b[0m\u001b[0;34m]\u001b[0m\u001b[0;34m)\u001b[0m\u001b[0;34m)\u001b[0m\u001b[0;34m\u001b[0m\u001b[0;34m\u001b[0m\u001b[0m\n",
            "\u001b[0;31mTypeError\u001b[0m: interact_with_pet() missing 1 required positional argument: 'command'"
          ]
        }
      ]
    },
    {
      "cell_type": "markdown",
      "source": [
        "# Задание 2"
      ],
      "metadata": {
        "id": "qZ7qFQnmssNd"
      }
    },
    {
      "cell_type": "markdown",
      "source": [
        "Рыцарь и дракон\n",
        "\n",
        "Цель: создать небольшую игру, в которой вам необходимо играть за рыцаря и сразиться с драконом\n",
        "\n",
        "Требования:\n",
        "\n",
        "- Создание персонажа (имя, информация о доспехах, оружии, урон, здоровье)\n",
        "- Управление персонажем и мини сюжет\n",
        "- Создание дракона (Имя, информация о здоровье и уроне)\n",
        "- Боевая система (нанесение и получение урона, урон должен быть случайным в заданном диапазоне)\n",
        "- Реализовать бой между драконом и рыцарем"
      ],
      "metadata": {
        "id": "UaccTe7ltNvg"
      }
    },
    {
      "cell_type": "code",
      "source": [
        "from random import randint\n",
        "\n",
        "\n",
        "def create_knight():\n",
        "  name = input(\"введите рыцаря имя \")\n",
        "  armor = int(input(\"введите значение защиты брони \"))\n",
        "  weapon_attack, weapon = input(\"введите значение атаки оружия рыцаря и что это за оружие через запятую \").split(', ')\n",
        "  health = int(input(\"введите значение здоровья рыцаря \"))\n",
        "\n",
        "  global knight_info\n",
        "  knight_info = [name, armor, [weapon, int(weapon_attack)], health*(1+armor/100)]\n",
        "\n",
        "  return knight_info\n",
        "\n",
        "def create_dragon():\n",
        "  name = input(\"введите имя дракона \")\n",
        "  health = int(input(\"введите значение здоровья дракона \"))\n",
        "  damage = int(input(\"введите значение урона дракона \"))\n",
        "\n",
        "  global dragon_info\n",
        "  dragon_info = [name, health, damage]\n",
        "\n",
        "  return dragon_info\n",
        "\n",
        "def knight_attack():\n",
        "  damage = knight_info[2][1] + randint(-2, 2)\n",
        "  dragon_info[1] -= damage\n",
        "  return f'вы атаковали дракона и нанесли ему {damage} урона\\n'\n",
        "\n",
        "\n",
        "def dragon_attack():\n",
        "  damage = dragon_info[2] + randint(-2, 2)\n",
        "  knight_info[3] -= damage\n",
        "  return f'дракон атаковал вас, нанеся вам {damage} урона\\n'\n",
        "\n",
        "\n",
        "def heal_knight():\n",
        "  heal_tries = 3\n",
        "  if heal_tries >0:\n",
        "    knight_info[3] += 20\n",
        "    heal_tries-=1\n",
        "    return 'вы полечились на 20 единиц здоровья\\n'\n",
        "  else:\n",
        "    return 'закончились хилки\\n'\n",
        "\n",
        "intro = '''когда то давным давно жил дракон, который не давал покоя деревушке неподалёку от его логова.\n",
        "но в один день родился мальчик, которому предстояло сразиться с драконом. судьба наделила его огромной физической силой, а\n",
        "отец воспитал в нем настоящего воина. и вот рыцарь и дракон встречаются в жестокой битве дальше хз'''\n",
        "\n",
        "print(intro)\n",
        "\n",
        "\n",
        "create_knight()\n",
        "create_dragon()\n",
        "\n",
        "print('вы ходите первым\\n')\n",
        "while True:\n",
        "  action = input('что хотите сделать? 0 - атаковать, 1 - полекаться ')\n",
        "  if action == '0':\n",
        "    print(knight_attack())\n",
        "    print(f'здоровье рыцаря - {knight_info[3]}, дракона - {dragon_info[1]}\\n')\n",
        "  elif action == '1':\n",
        "    print(heal_knight())\n",
        "    print(f'здоровье рыцаря - {knight_info[3]}, дракона - {dragon_info[1]}\\n')\n",
        "  else:\n",
        "    print('нет команды такой ты шо дурак')\n",
        "  if knight_info[3]<=0:\n",
        "    print('но даже казалось бы могущественный рыцарь не смог одолеть древнего дракона...')\n",
        "    break\n",
        "  print(dragon_attack())\n",
        "  print(f'здоровье рыцаря - {knight_info[3]}, дракона - {dragon_info[1]}\\n')\n",
        "  if dragon_info[1] <= 0:\n",
        "    print('дракон побежден! в деревню пришел мир HAPPY END')\n",
        "    break"
      ],
      "metadata": {
        "id": "LCcxp5Q0srjY",
        "colab": {
          "base_uri": "https://localhost:8080/",
          "height": 1000
        },
        "outputId": "e096c4e8-d1c5-498d-f3ae-acb90a183cee"
      },
      "execution_count": null,
      "outputs": [
        {
          "output_type": "stream",
          "name": "stdout",
          "text": [
            "когда то давным давно жил дракон, который не давал покоя деревушке неподалёку от его логова.\n",
            "но в один день родился мальчик, которому предстояло сразиться с драконом. судьба наделила его огромной физической силой, а\n",
            "отец воспитал в нем настоящего воина. и вот рыцарь и дракон встречаются в жестокой битве дальше хз\n",
            "введите рыцаря имя tsareg\n",
            "введите значение защиты брони 10\n",
            "введите значение атаки оружия рыцаря и что это за оружие через запятую 5, sword\n",
            "введите значение здоровья рыцаря 100\n",
            "введите имя дракона novikov\n",
            "введите значение здоровья дракона 120\n",
            "введите значение урона дракона 7\n",
            "вы ходите первым\n",
            "\n",
            "что хотите сделать? 0 - атаковать, 1 - полекаться 0\n",
            "вы атаковали дракона и нанесли ему 6 урона\n",
            "\n",
            "здоровье рыцаря - 110.00000000000001, дракона - 114\n",
            "\n",
            "дракон атаковал вас, нанеся вам 9 урона\n",
            "\n",
            "здоровье рыцаря - 101.00000000000001, дракона - 114\n",
            "\n",
            "что хотите сделать? 0 - атаковать, 1 - полекаться 0\n",
            "вы атаковали дракона и нанесли ему 4 урона\n",
            "\n",
            "здоровье рыцаря - 101.00000000000001, дракона - 110\n",
            "\n",
            "дракон атаковал вас, нанеся вам 7 урона\n",
            "\n",
            "здоровье рыцаря - 94.00000000000001, дракона - 110\n",
            "\n",
            "что хотите сделать? 0 - атаковать, 1 - полекаться 0\n",
            "вы атаковали дракона и нанесли ему 7 урона\n",
            "\n",
            "здоровье рыцаря - 94.00000000000001, дракона - 103\n",
            "\n",
            "дракон атаковал вас, нанеся вам 5 урона\n",
            "\n",
            "здоровье рыцаря - 89.00000000000001, дракона - 103\n",
            "\n",
            "что хотите сделать? 0 - атаковать, 1 - полекаться 0\n",
            "вы атаковали дракона и нанесли ему 5 урона\n",
            "\n",
            "здоровье рыцаря - 89.00000000000001, дракона - 98\n",
            "\n",
            "дракон атаковал вас, нанеся вам 6 урона\n",
            "\n",
            "здоровье рыцаря - 83.00000000000001, дракона - 98\n",
            "\n",
            "что хотите сделать? 0 - атаковать, 1 - полекаться 0\n",
            "вы атаковали дракона и нанесли ему 4 урона\n",
            "\n",
            "здоровье рыцаря - 83.00000000000001, дракона - 94\n",
            "\n",
            "дракон атаковал вас, нанеся вам 5 урона\n",
            "\n",
            "здоровье рыцаря - 78.00000000000001, дракона - 94\n",
            "\n",
            "что хотите сделать? 0 - атаковать, 1 - полекаться 0\n",
            "вы атаковали дракона и нанесли ему 3 урона\n",
            "\n",
            "здоровье рыцаря - 78.00000000000001, дракона - 91\n",
            "\n",
            "дракон атаковал вас, нанеся вам 5 урона\n",
            "\n",
            "здоровье рыцаря - 73.00000000000001, дракона - 91\n",
            "\n",
            "что хотите сделать? 0 - атаковать, 1 - полекаться 0\n",
            "вы атаковали дракона и нанесли ему 7 урона\n",
            "\n",
            "здоровье рыцаря - 73.00000000000001, дракона - 84\n",
            "\n",
            "дракон атаковал вас, нанеся вам 5 урона\n",
            "\n",
            "здоровье рыцаря - 68.00000000000001, дракона - 84\n",
            "\n",
            "что хотите сделать? 0 - атаковать, 1 - полекаться 0\n",
            "вы атаковали дракона и нанесли ему 5 урона\n",
            "\n",
            "здоровье рыцаря - 68.00000000000001, дракона - 79\n",
            "\n",
            "дракон атаковал вас, нанеся вам 6 урона\n",
            "\n",
            "здоровье рыцаря - 62.000000000000014, дракона - 79\n",
            "\n",
            "что хотите сделать? 0 - атаковать, 1 - полекаться 0\n",
            "вы атаковали дракона и нанесли ему 5 урона\n",
            "\n",
            "здоровье рыцаря - 62.000000000000014, дракона - 74\n",
            "\n",
            "дракон атаковал вас, нанеся вам 8 урона\n",
            "\n",
            "здоровье рыцаря - 54.000000000000014, дракона - 74\n",
            "\n",
            "что хотите сделать? 0 - атаковать, 1 - полекаться 0\n",
            "вы атаковали дракона и нанесли ему 7 урона\n",
            "\n",
            "здоровье рыцаря - 54.000000000000014, дракона - 67\n",
            "\n",
            "дракон атаковал вас, нанеся вам 5 урона\n",
            "\n",
            "здоровье рыцаря - 49.000000000000014, дракона - 67\n",
            "\n",
            "что хотите сделать? 0 - атаковать, 1 - полекаться 0\n",
            "вы атаковали дракона и нанесли ему 5 урона\n",
            "\n",
            "здоровье рыцаря - 49.000000000000014, дракона - 62\n",
            "\n",
            "дракон атаковал вас, нанеся вам 8 урона\n",
            "\n",
            "здоровье рыцаря - 41.000000000000014, дракона - 62\n",
            "\n",
            "что хотите сделать? 0 - атаковать, 1 - полекаться 0\n",
            "вы атаковали дракона и нанесли ему 4 урона\n",
            "\n",
            "здоровье рыцаря - 41.000000000000014, дракона - 58\n",
            "\n",
            "дракон атаковал вас, нанеся вам 9 урона\n",
            "\n",
            "здоровье рыцаря - 32.000000000000014, дракона - 58\n",
            "\n",
            "что хотите сделать? 0 - атаковать, 1 - полекаться 0\n",
            "вы атаковали дракона и нанесли ему 7 урона\n",
            "\n",
            "здоровье рыцаря - 32.000000000000014, дракона - 51\n",
            "\n",
            "дракон атаковал вас, нанеся вам 7 урона\n",
            "\n",
            "здоровье рыцаря - 25.000000000000014, дракона - 51\n",
            "\n",
            "что хотите сделать? 0 - атаковать, 1 - полекаться 1\n",
            "вы полечились на 20 единиц здоровья\n",
            "\n",
            "здоровье рыцаря - 45.000000000000014, дракона - 51\n",
            "\n",
            "дракон атаковал вас, нанеся вам 8 урона\n",
            "\n",
            "здоровье рыцаря - 37.000000000000014, дракона - 51\n",
            "\n",
            "что хотите сделать? 0 - атаковать, 1 - полекаться 1\n",
            "вы полечились на 20 единиц здоровья\n",
            "\n",
            "здоровье рыцаря - 57.000000000000014, дракона - 51\n",
            "\n",
            "дракон атаковал вас, нанеся вам 8 урона\n",
            "\n",
            "здоровье рыцаря - 49.000000000000014, дракона - 51\n",
            "\n",
            "что хотите сделать? 0 - атаковать, 1 - полекаться 0\n",
            "вы атаковали дракона и нанесли ему 7 урона\n",
            "\n",
            "здоровье рыцаря - 49.000000000000014, дракона - 44\n",
            "\n",
            "дракон атаковал вас, нанеся вам 5 урона\n",
            "\n",
            "здоровье рыцаря - 44.000000000000014, дракона - 44\n",
            "\n",
            "что хотите сделать? 0 - атаковать, 1 - полекаться 0\n",
            "вы атаковали дракона и нанесли ему 7 урона\n",
            "\n",
            "здоровье рыцаря - 44.000000000000014, дракона - 37\n",
            "\n",
            "дракон атаковал вас, нанеся вам 6 урона\n",
            "\n",
            "здоровье рыцаря - 38.000000000000014, дракона - 37\n",
            "\n",
            "что хотите сделать? 0 - атаковать, 1 - полекаться 0\n",
            "вы атаковали дракона и нанесли ему 6 урона\n",
            "\n",
            "здоровье рыцаря - 38.000000000000014, дракона - 31\n",
            "\n",
            "дракон атаковал вас, нанеся вам 6 урона\n",
            "\n",
            "здоровье рыцаря - 32.000000000000014, дракона - 31\n",
            "\n",
            "что хотите сделать? 0 - атаковать, 1 - полекаться \n",
            "нет команды такой ты шо дурак\n",
            "дракон атаковал вас, нанеся вам 9 урона\n",
            "\n",
            "здоровье рыцаря - 23.000000000000014, дракона - 31\n",
            "\n"
          ]
        },
        {
          "output_type": "error",
          "ename": "KeyboardInterrupt",
          "evalue": "Interrupted by user",
          "traceback": [
            "\u001b[0;31m---------------------------------------------------------------------------\u001b[0m",
            "\u001b[0;31mKeyboardInterrupt\u001b[0m                         Traceback (most recent call last)",
            "\u001b[0;32m<ipython-input-4-a3b4ec79e84c>\u001b[0m in \u001b[0;36m<cell line: 57>\u001b[0;34m()\u001b[0m\n\u001b[1;32m     56\u001b[0m \u001b[0mprint\u001b[0m\u001b[0;34m(\u001b[0m\u001b[0;34m'вы ходите первым\\n'\u001b[0m\u001b[0;34m)\u001b[0m\u001b[0;34m\u001b[0m\u001b[0;34m\u001b[0m\u001b[0m\n\u001b[1;32m     57\u001b[0m \u001b[0;32mwhile\u001b[0m \u001b[0;32mTrue\u001b[0m\u001b[0;34m:\u001b[0m\u001b[0;34m\u001b[0m\u001b[0;34m\u001b[0m\u001b[0m\n\u001b[0;32m---> 58\u001b[0;31m   \u001b[0maction\u001b[0m \u001b[0;34m=\u001b[0m \u001b[0minput\u001b[0m\u001b[0;34m(\u001b[0m\u001b[0;34m'что хотите сделать? 0 - атаковать, 1 - полекаться '\u001b[0m\u001b[0;34m)\u001b[0m\u001b[0;34m\u001b[0m\u001b[0;34m\u001b[0m\u001b[0m\n\u001b[0m\u001b[1;32m     59\u001b[0m   \u001b[0;31m# if knight_info[3] <50:\u001b[0m\u001b[0;34m\u001b[0m\u001b[0;34m\u001b[0m\u001b[0m\n\u001b[1;32m     60\u001b[0m   \u001b[0;31m#   wanna_heal = input('хотите полечиться? да либо нет')\u001b[0m\u001b[0;34m\u001b[0m\u001b[0;34m\u001b[0m\u001b[0m\n",
            "\u001b[0;32m/usr/local/lib/python3.10/dist-packages/ipykernel/kernelbase.py\u001b[0m in \u001b[0;36mraw_input\u001b[0;34m(self, prompt)\u001b[0m\n\u001b[1;32m    849\u001b[0m                 \u001b[0;34m\"raw_input was called, but this frontend does not support input requests.\"\u001b[0m\u001b[0;34m\u001b[0m\u001b[0;34m\u001b[0m\u001b[0m\n\u001b[1;32m    850\u001b[0m             )\n\u001b[0;32m--> 851\u001b[0;31m         return self._input_request(str(prompt),\n\u001b[0m\u001b[1;32m    852\u001b[0m             \u001b[0mself\u001b[0m\u001b[0;34m.\u001b[0m\u001b[0m_parent_ident\u001b[0m\u001b[0;34m,\u001b[0m\u001b[0;34m\u001b[0m\u001b[0;34m\u001b[0m\u001b[0m\n\u001b[1;32m    853\u001b[0m             \u001b[0mself\u001b[0m\u001b[0;34m.\u001b[0m\u001b[0m_parent_header\u001b[0m\u001b[0;34m,\u001b[0m\u001b[0;34m\u001b[0m\u001b[0;34m\u001b[0m\u001b[0m\n",
            "\u001b[0;32m/usr/local/lib/python3.10/dist-packages/ipykernel/kernelbase.py\u001b[0m in \u001b[0;36m_input_request\u001b[0;34m(self, prompt, ident, parent, password)\u001b[0m\n\u001b[1;32m    893\u001b[0m             \u001b[0;32mexcept\u001b[0m \u001b[0mKeyboardInterrupt\u001b[0m\u001b[0;34m:\u001b[0m\u001b[0;34m\u001b[0m\u001b[0;34m\u001b[0m\u001b[0m\n\u001b[1;32m    894\u001b[0m                 \u001b[0;31m# re-raise KeyboardInterrupt, to truncate traceback\u001b[0m\u001b[0;34m\u001b[0m\u001b[0;34m\u001b[0m\u001b[0m\n\u001b[0;32m--> 895\u001b[0;31m                 \u001b[0;32mraise\u001b[0m \u001b[0mKeyboardInterrupt\u001b[0m\u001b[0;34m(\u001b[0m\u001b[0;34m\"Interrupted by user\"\u001b[0m\u001b[0;34m)\u001b[0m \u001b[0;32mfrom\u001b[0m \u001b[0;32mNone\u001b[0m\u001b[0;34m\u001b[0m\u001b[0;34m\u001b[0m\u001b[0m\n\u001b[0m\u001b[1;32m    896\u001b[0m             \u001b[0;32mexcept\u001b[0m \u001b[0mException\u001b[0m \u001b[0;32mas\u001b[0m \u001b[0me\u001b[0m\u001b[0;34m:\u001b[0m\u001b[0;34m\u001b[0m\u001b[0;34m\u001b[0m\u001b[0m\n\u001b[1;32m    897\u001b[0m                 \u001b[0mself\u001b[0m\u001b[0;34m.\u001b[0m\u001b[0mlog\u001b[0m\u001b[0;34m.\u001b[0m\u001b[0mwarning\u001b[0m\u001b[0;34m(\u001b[0m\u001b[0;34m\"Invalid Message:\"\u001b[0m\u001b[0;34m,\u001b[0m \u001b[0mexc_info\u001b[0m\u001b[0;34m=\u001b[0m\u001b[0;32mTrue\u001b[0m\u001b[0;34m)\u001b[0m\u001b[0;34m\u001b[0m\u001b[0;34m\u001b[0m\u001b[0m\n",
            "\u001b[0;31mKeyboardInterrupt\u001b[0m: Interrupted by user"
          ]
        }
      ]
    },
    {
      "cell_type": "code",
      "source": [],
      "metadata": {
        "id": "Fm0--RYSJAOP"
      },
      "execution_count": null,
      "outputs": []
    },
    {
      "cell_type": "markdown",
      "source": [
        "# Задание 3\n"
      ],
      "metadata": {
        "id": "N8oFiEXol3e2"
      }
    },
    {
      "cell_type": "markdown",
      "source": [
        "Цель - создать менеджера команды Pokémon, который позволит пользователям:\n",
        "\n",
        "- Добавлять покемонов в свою команду. (если такого покемона еще нет в команде)\n",
        "- Удалять покемонов из их команды.\n",
        "- Просматривать подробную информацию обо всех покемонах в команде.\n",
        "- Находить покемона по имени.\n",
        "- Устраивать тренировочный бой между двумя покемонами\n",
        "\n",
        "Для данной задачи используйте: https://pokeapi.co/\n"
      ],
      "metadata": {
        "id": "9p4WQG_Vl7wB"
      }
    },
    {
      "cell_type": "code",
      "source": [
        "import requests\n",
        "\n",
        "\n",
        "URL='https://pokeapi.co/api/v2/pokemon/'\n",
        "\n",
        "\n",
        "def team_add_pokemon():\n",
        "  name=input('введите имя покемона ')\n",
        "  if requests.get(f\"{URL}{name.lower()}\"):\n",
        "    team[name] = requests.get(f\"{URL}{name.lower()}\").json()\n",
        "    return f'покемон {name} успешно добавлен в команду'\n",
        "  else:\n",
        "    return 'вы ввели несуществующее имя покемона'\n",
        "\n",
        "\n",
        "def team_remove_pokemon():\n",
        "  pk_name = input(\"введите имя покемонка которого пытаетесь удалить\")\n",
        "  if pk_name in team:\n",
        "    del team[pk_name]\n",
        "    return f'покемон {pk_name} успешно удален из команды'\n",
        "  else:\n",
        "    return 'покемон не в команде'\n",
        "\n",
        "\n",
        "def get_team_info():\n",
        "  if team:\n",
        "    for pokemon in team:\n",
        "      response = requests.get(URL+pokemon).json()\n",
        "      print(f\"имя - {response['name']}\\n\")\n",
        "      print(f\"тип - {response['types'][0]['type']['name']}\\n\")\n",
        "      print(f\"вес - {response['weight']}\\n\")\n",
        "      print(f\"рост - {response['height']}\\n\")\n",
        "      print(f\"способности - {response['abilities'][0]['ability']['name']}\\n\")\n",
        "  else:\n",
        "    print(\"ваша команда пуста\")\n",
        "\n",
        "\n",
        "def find_pokemon():\n",
        "  first_20_pks = []\n",
        "  response = requests.get(URL).json()['results']\n",
        "  for pk in response:\n",
        "    first_20_pks.append(pk['name'])\n",
        "  print(f'первые 20 покемонов: {first_20_pks}')\n",
        "  choice = input(f'выберите покемона: ')\n",
        "  return f'вы выбрали покемона {choice}'\n",
        "\n",
        "\n",
        "def train_battle():\n",
        "  print('ваша команда: ', *team.keys())\n",
        "  pk1,pk2 = input(\"Введите через запятую два покемона для тренировочного боя\").split(', ')\n",
        "  if pk1 not in team or pk2 not in team:\n",
        "    print(\"неверное имя покемона\\n\")\n",
        "  else:\n",
        "    print('Начинается тренировочный бой')\n",
        "    print(f'Способности {pk1}:')\n",
        "    print([x['ability']['name'] for x in team[pk1]['abilities']])\n",
        "    print(f'Способности {pk2}:')\n",
        "    print([x['ability']['name'] for x in team[pk2]['abilities']])\n",
        "    print(\"Тренировочный бой завершен\")\n",
        "\n",
        "\n",
        "team={}\n",
        "\n",
        "\n",
        "while True:\n",
        "  command=int(input('введите команды: 1 - добавить покемона, 2 - удалить покемона, 3 -  просмотреть информацию, 4 - найти покемона по имени, \\\n",
        "  5 - провести тренировочный бой, 0 - выход '))\n",
        "  if command == 1:\n",
        "    print(team_add_pokemon())\n",
        "  elif command == 2:\n",
        "    print(team_remove_pokemon())\n",
        "  elif command ==3:\n",
        "    print(get_team_info())\n",
        "  elif command == 4:\n",
        "    print(find_pokemon())\n",
        "  elif command == 5:\n",
        "    train_battle()\n",
        "  elif command == 0:\n",
        "    break\n",
        "  else:\n",
        "    print(\"несуществующая команда\")"
      ],
      "metadata": {
        "id": "NnGYp1MTqi5k",
        "colab": {
          "base_uri": "https://localhost:8080/",
          "height": 418
        },
        "outputId": "1c54a0f6-d0e6-40bf-bc3b-bf4ec024cf51"
      },
      "execution_count": null,
      "outputs": [
        {
          "output_type": "stream",
          "name": "stdout",
          "text": [
            "введите команды: 1 - добавить покемона, 2 - удалить покемона, 3 -  просмотреть информацию, 4 - найти покемона по имени,   5 - провести тренировочный бой, 0 - выход 1\n",
            "введите имя покемона kakuna\n",
            "покемон kakuna успешно добавлен в команду\n"
          ]
        },
        {
          "output_type": "error",
          "ename": "KeyboardInterrupt",
          "evalue": "Interrupted by user",
          "traceback": [
            "\u001b[0;31m---------------------------------------------------------------------------\u001b[0m",
            "\u001b[0;31mKeyboardInterrupt\u001b[0m                         Traceback (most recent call last)",
            "\u001b[0;32m<ipython-input-17-3e01c7fff277>\u001b[0m in \u001b[0;36m<cell line: 65>\u001b[0;34m()\u001b[0m\n\u001b[1;32m     64\u001b[0m \u001b[0;34m\u001b[0m\u001b[0m\n\u001b[1;32m     65\u001b[0m \u001b[0;32mwhile\u001b[0m \u001b[0;32mTrue\u001b[0m\u001b[0;34m:\u001b[0m\u001b[0;34m\u001b[0m\u001b[0;34m\u001b[0m\u001b[0m\n\u001b[0;32m---> 66\u001b[0;31m   command=int(input('введите команды: 1 - добавить покемона, 2 - удалить покемона, 3 -  просмотреть информацию, 4 - найти покемона по имени, \\\n\u001b[0m\u001b[1;32m     67\u001b[0m   5 - провести тренировочный бой, 0 - выход '))\n\u001b[1;32m     68\u001b[0m   \u001b[0;32mif\u001b[0m \u001b[0mcommand\u001b[0m \u001b[0;34m==\u001b[0m \u001b[0;36m1\u001b[0m\u001b[0;34m:\u001b[0m\u001b[0;34m\u001b[0m\u001b[0;34m\u001b[0m\u001b[0m\n",
            "\u001b[0;32m/usr/local/lib/python3.10/dist-packages/ipykernel/kernelbase.py\u001b[0m in \u001b[0;36mraw_input\u001b[0;34m(self, prompt)\u001b[0m\n\u001b[1;32m    849\u001b[0m                 \u001b[0;34m\"raw_input was called, but this frontend does not support input requests.\"\u001b[0m\u001b[0;34m\u001b[0m\u001b[0;34m\u001b[0m\u001b[0m\n\u001b[1;32m    850\u001b[0m             )\n\u001b[0;32m--> 851\u001b[0;31m         return self._input_request(str(prompt),\n\u001b[0m\u001b[1;32m    852\u001b[0m             \u001b[0mself\u001b[0m\u001b[0;34m.\u001b[0m\u001b[0m_parent_ident\u001b[0m\u001b[0;34m,\u001b[0m\u001b[0;34m\u001b[0m\u001b[0;34m\u001b[0m\u001b[0m\n\u001b[1;32m    853\u001b[0m             \u001b[0mself\u001b[0m\u001b[0;34m.\u001b[0m\u001b[0m_parent_header\u001b[0m\u001b[0;34m,\u001b[0m\u001b[0;34m\u001b[0m\u001b[0;34m\u001b[0m\u001b[0m\n",
            "\u001b[0;32m/usr/local/lib/python3.10/dist-packages/ipykernel/kernelbase.py\u001b[0m in \u001b[0;36m_input_request\u001b[0;34m(self, prompt, ident, parent, password)\u001b[0m\n\u001b[1;32m    893\u001b[0m             \u001b[0;32mexcept\u001b[0m \u001b[0mKeyboardInterrupt\u001b[0m\u001b[0;34m:\u001b[0m\u001b[0;34m\u001b[0m\u001b[0;34m\u001b[0m\u001b[0m\n\u001b[1;32m    894\u001b[0m                 \u001b[0;31m# re-raise KeyboardInterrupt, to truncate traceback\u001b[0m\u001b[0;34m\u001b[0m\u001b[0;34m\u001b[0m\u001b[0m\n\u001b[0;32m--> 895\u001b[0;31m                 \u001b[0;32mraise\u001b[0m \u001b[0mKeyboardInterrupt\u001b[0m\u001b[0;34m(\u001b[0m\u001b[0;34m\"Interrupted by user\"\u001b[0m\u001b[0;34m)\u001b[0m \u001b[0;32mfrom\u001b[0m \u001b[0;32mNone\u001b[0m\u001b[0;34m\u001b[0m\u001b[0;34m\u001b[0m\u001b[0m\n\u001b[0m\u001b[1;32m    896\u001b[0m             \u001b[0;32mexcept\u001b[0m \u001b[0mException\u001b[0m \u001b[0;32mas\u001b[0m \u001b[0me\u001b[0m\u001b[0;34m:\u001b[0m\u001b[0;34m\u001b[0m\u001b[0;34m\u001b[0m\u001b[0m\n\u001b[1;32m    897\u001b[0m                 \u001b[0mself\u001b[0m\u001b[0;34m.\u001b[0m\u001b[0mlog\u001b[0m\u001b[0;34m.\u001b[0m\u001b[0mwarning\u001b[0m\u001b[0;34m(\u001b[0m\u001b[0;34m\"Invalid Message:\"\u001b[0m\u001b[0;34m,\u001b[0m \u001b[0mexc_info\u001b[0m\u001b[0;34m=\u001b[0m\u001b[0;32mTrue\u001b[0m\u001b[0;34m)\u001b[0m\u001b[0;34m\u001b[0m\u001b[0;34m\u001b[0m\u001b[0m\n",
            "\u001b[0;31mKeyboardInterrupt\u001b[0m: Interrupted by user"
          ]
        }
      ]
    }
  ]
}