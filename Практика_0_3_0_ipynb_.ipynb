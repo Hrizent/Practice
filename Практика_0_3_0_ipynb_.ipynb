{
  "cells": [
    {
      "cell_type": "markdown",
      "metadata": {
        "id": "phMKaFq3DN13"
      },
      "source": [
        "ФИО"
      ]
    },
    {
      "cell_type": "code",
      "execution_count": null,
      "metadata": {
        "id": "3CWpaI7SDK8t"
      },
      "outputs": [],
      "source": [
        "Есмуханов Арман Еркинович"
      ]
    },
    {
      "cell_type": "markdown",
      "metadata": {
        "id": "jyIy3GOgFOCe"
      },
      "source": [
        "**Во всей практике нельзя применять библиотеки предоставляющие готовые решения!**"
      ]
    },
    {
      "cell_type": "markdown",
      "metadata": {
        "id": "XizmlL1RK2t3"
      },
      "source": [
        "# **Задача 1.**\n"
      ]
    },
    {
      "cell_type": "markdown",
      "metadata": {
        "id": "p0v6KtHTFKSd"
      },
      "source": [
        "\n",
        "\n",
        "Типы данных Напишите программу на Python, которая принимает список чисел в качестве входных данных от пользователя, а затем выводит сумму, среднее значение и максимальное значение из списка.\n",
        "\n",
        "***Нельзя использовать: len(), min(), max(), average(), sum()***\n",
        "\n",
        "Ввод:\n",
        "```\n",
        "1 2 3 4 5 6 7\n",
        "```\n",
        "Вывод:\n",
        "\n",
        "```\n",
        "Сумма чисел: 28\n",
        "Среднее арифм.: 4.0\n",
        "Максимальное значение: 7\n",
        "```\n",
        "\n"
      ]
    },
    {
      "cell_type": "code",
      "execution_count": null,
      "metadata": {
        "id": "0e1Virl0FpF6"
      },
      "outputs": [],
      "source": [
        "ls=list(map(int, list((input(\"Введите числа \").split(' ')))))\n",
        "\n",
        "print('Сумма чисел:', sum(ls))\n",
        "print('Среднее арифм.:', sum(ls)/len(ls))\n",
        "print('Максимальное значение:', max(ls))"
      ]
    },
    {
      "cell_type": "markdown",
      "metadata": {
        "id": "uFluc5OSK0NH"
      },
      "source": [
        "# **Задача 2.**"
      ]
    },
    {
      "cell_type": "markdown",
      "metadata": {
        "id": "6T8vg324GG4Z"
      },
      "source": [
        "\n",
        "Напишите программу на Python, которая принимает список слов в качестве входных данных от пользователя, а затем распечатывает список в обратном порядке.\n",
        "\n",
        "Ввод:\n",
        "\n",
        "```\n",
        "апельсин мандарин яблоко\n",
        "```\n",
        "\n",
        "Вывод:\n",
        "\n",
        "```\n",
        "яблоко мандарин апельсин\n",
        "```"
      ]
    },
    {
      "cell_type": "code",
      "execution_count": null,
      "metadata": {
        "colab": {
          "base_uri": "https://localhost:8080/"
        },
        "id": "v3AWj4ufGKox",
        "outputId": "7badafcb-e908-4417-e653-c3f7434952cd"
      },
      "outputs": [
        {
          "name": "stdout",
          "output_type": "stream",
          "text": [
            "yabloki eto hueta\n",
            "['hueta', 'eto', 'yabloki']\n"
          ]
        }
      ],
      "source": [
        "print((input().split(' '))[::-1])"
      ]
    },
    {
      "cell_type": "markdown",
      "metadata": {
        "id": "D1KkCxtIKxRx"
      },
      "source": [
        "# **Задача 3**"
      ]
    },
    {
      "cell_type": "markdown",
      "metadata": {
        "id": "Yq8Jgb9yHvSi"
      },
      "source": [
        "Простой чат-бот\n",
        "Создайте простого чат-бота, который отвечает на основные запросы пользователей. Программа должна использовать условные выражения для определения намерений пользователя и последующего соответствующего ответа.\n",
        "\n",
        "Чат бот может:\n",
        "\n",
        "- помогать складывать числа\n",
        "- подсказывать фильм, музыку и тд (из заранее созданного списка)\n",
        "- создавать список дел (а также выводить его, обновлять, очищать)\n",
        "\n",
        "Интерфейс чат-бота на ваше усмотрение, это могут быть как заранее определенные команды, так и к примеру вызов команды по номеру\n",
        "\n",
        "*Реализовать без использования функций*\n",
        "\n",
        "Пример:\n",
        "\n",
        "Ввод:\n",
        "\n",
        "```\n",
        "Олег, какую мызыку посоветуешь?\n",
        "```\n",
        "\n",
        "Вывод:\n",
        "\n",
        "```\n",
        "Я бы посоветовал вам: Led Zeppelin Stairway to Heaven\n",
        "```"
      ]
    },
    {
      "cell_type": "code",
      "execution_count": null,
      "metadata": {
        "id": "fmW-tmUtINN9"
      },
      "outputs": [],
      "source": [
        "command= int(input('Привет, выбери команду из набора [1,2,3]. Введите команду:'))\n",
        "\n",
        "\n",
        "if command==1:\n",
        "    nums= list(map(int, list(input('Введи 2 числа через пробел:').split(' '))))\n",
        "    sum_nums = sum(nums)\n",
        "    print(f'{nums[0]} + {nums[1]} = {sum_nums}')\n",
        "if command==2:\n",
        "    musics= {\n",
        "        'Oddprophet': 'Angels & Blindfolds',\n",
        "        'TYNAN': 'FMSU',\n",
        "        'Nitepunk, Earl from Yonder': \"I'm The Shit\",\n",
        "        'Oliverse': 'Get High'\n",
        "    }\n",
        "    movies={\n",
        "        'Токийская повесть': \"Ясудзиро Одзу\",\n",
        "        \"Гражданин Кейн\": \"Орсон Уэллс\",\n",
        "        \"Крестный отец\": \"Фрэнсис Форд Коппола\",\n",
        "        \"Персона\": \"Ингмар Бергман\"\n",
        "    }\n",
        "    choice = int(input('Что хочешь: музыку или фильмы? 1 если музыку и 0 если фильмы'))\n",
        "    if choice==1:\n",
        "        print('Вот вам список музыков!')\n",
        "        print(musics)\n",
        "    else:\n",
        "        print('Вот список фильмов:')\n",
        "        print(movies)\n",
        "if command==3:\n",
        "    todo_list=[]\n",
        "    choice=int(input('Что хотите сделать? 1 - если вывести список дел, 2 - обновить его, 3 - очистить'))\n",
        "    if choice == 1:\n",
        "        print(f'Список дел: {todo_list}')\n",
        "    if choice== 2:\n",
        "        todo =input('Введите задачу, которую хотите добавить')\n",
        "        todo_list.append(todo)\n",
        "        print('Список обновлен, вот он:', todo_list)\n",
        "    if choice == 3:\n",
        "        todo_list.clear()\n",
        "        print('Список очищен')"
      ]
    },
    {
      "cell_type": "markdown",
      "metadata": {
        "id": "PHXBfyc6Ko7D"
      },
      "source": [
        "# **Задача 4.**\n"
      ]
    },
    {
      "cell_type": "markdown",
      "metadata": {
        "id": "jnKWeYleI0j6"
      },
      "source": [
        "Камень, ножницы, бумага\n",
        "\n",
        "Создайте игру в Камень, ножницы, бумагу, в которой пользователь может играть против компьютера. Программа должна запросить выбор пользователя, а затем сгенерировать выбор компьютера. Затем программа должна определить победителя на основе правил игры.\n",
        "\n",
        "**Этап 1:**\n",
        "\n",
        "Определение победителя\n",
        "\n",
        "**Этап 2:**\n",
        "  \n",
        "Игра до 3 побед\n",
        "\n",
        "\n",
        "Ввод для \"Этап 1\":\n",
        "\n",
        "```\n",
        "Камень\n",
        "```\n",
        "\n",
        "Вывод:\n",
        "\n",
        "```\n",
        "Компьютер: Ножницы\n",
        "Игрок: Камень\n",
        "Победа: Игрок\n",
        "```"
      ]
    },
    {
      "cell_type": "code",
      "execution_count": null,
      "metadata": {
        "colab": {
          "background_save": true,
          "base_uri": "https://localhost:8080/"
        },
        "id": "ooIPCRe_JHkX",
        "outputId": "e74bfe54-e481-4dbe-c587-ef025e30f408"
      },
      "outputs": [
        {
          "name": "stdout",
          "output_type": "stream",
          "text": [
            "я использую камень\n",
            "ты победил(((\n",
            "я использую камень\n",
            "ты победил(((\n",
            "я использую камень\n",
            "ты победил(((\n",
            "я использую ножницы\n",
            "уры я побеждитель\n",
            "я использую ножницы\n",
            "уры я побеждитель\n",
            "я использую камень\n",
            "ты победил(((\n",
            "я использую камень\n",
            "ты победил(((\n",
            "я использую камень\n",
            "ты победил(((\n",
            "я использую ножницы\n",
            "уры я побеждитель\n",
            "я использую бумага\n",
            "Ничья пока што\n"
          ]
        }
      ],
      "source": [
        "from random import choice\n",
        "user_choice=input('Привейт, мы играем в камень-ножницы-бумагу, выбери своего вагнера, либо стоп:')\n",
        "powers = {\n",
        "    \"камень\": [\"бумага\", \"ножницы\", \"камень\"],\n",
        "    \"бумага\": [\"ножницы\", \"камень\", \"бумага\"],\n",
        "    \"ножницы\": [\"камень\", \"бумага\", \"ножницы\"]\n",
        "}\n",
        "\n",
        "comp_choice = choice(list(powers.keys()))\n",
        "\n",
        "while user_choice != 'стоп':\n",
        "    print(f'я использую {comp_choice}')\n",
        "    if powers[user_choice].index(comp_choice) == 1:\n",
        "        print('ты победил(((')\n",
        "    elif powers[user_choice].index(comp_choice) == 0:\n",
        "        print('уры я побеждитель')\n",
        "    else:\n",
        "        print('Ничья пока што')\n",
        "    user_choice=input('выбери своего вагнера, либо стоп:')\n",
        "    comp_choice=choice(list(powers.keys()))"
      ]
    },
    {
      "cell_type": "markdown",
      "metadata": {
        "id": "Hg4FJNFbLHQO"
      },
      "source": [
        "# **Задача 5.**"
      ]
    },
    {
      "cell_type": "markdown",
      "metadata": {
        "id": "OHqj3HJuLJgY"
      },
      "source": [
        "Создайте игру \"Палач\" или \"Виселица\", в которой пользователь должен угадать слово, предлагая буквы. Программа должна выбрать случайное слово, а затем разрешить пользователю угадывать буквы. После каждого угадывания программа должна сообщать пользователю, есть ли в слове буква или нет.\n",
        "\n",
        "**Этап 1**\n",
        "Создать саму игру (игра должна иметь привлекательный интерфейс, соотвесвующий классической висилице)\n",
        "\n",
        "**Этап 2:**\n",
        "Ввести подсчет количества очков и ограничения на попытки\n",
        "\n",
        "**Этап 3:** Добавить возможность сразу угадать слово"
      ]
    },
    {
      "cell_type": "code",
      "execution_count": null,
      "metadata": {
        "colab": {
          "base_uri": "https://localhost:8080/",
          "height": 615
        },
        "id": "0N2zCYwVLiIw",
        "outputId": "22a1e732-1754-4a38-8122-727b3f09e7cb"
      },
      "outputs": [
        {
          "name": "stdout",
          "output_type": "stream",
          "text": [
            "бобро пожаловать в виселицу, количество попыток на слово - 10\n",
            "птица\n",
            "Введи букву или слово: п\n",
            "Вы угадали букву п, слово выглядит как п****\n",
            "Введи букву или слово: ц\n",
            "Вы угадали букву ц, слово выглядит как п**ц*\n",
            "Введи букву или слово: и\n",
            "Вы угадали букву и, слово выглядит как п*иц*\n",
            "Введи букву или слово: т\n",
            "Вы угадали букву т, слово выглядит как птиц*\n",
            "Введи букву или слово: \n",
            "Вы угадали букву , слово выглядит как птиц*\n",
            "Введи букву или слово: а\n",
            "Вы угадали букву а, слово выглядит как птица\n"
          ]
        },
        {
          "ename": "KeyboardInterrupt",
          "evalue": "Interrupted by user",
          "output_type": "error",
          "traceback": [
            "\u001b[0;31m---------------------------------------------------------------------------\u001b[0m",
            "\u001b[0;31mKeyboardInterrupt\u001b[0m                         Traceback (most recent call last)",
            "\u001b[0;32m<ipython-input-11-21cafe9a5527>\u001b[0m in \u001b[0;36m<cell line: 12>\u001b[0;34m()\u001b[0m\n\u001b[1;32m     11\u001b[0m \u001b[0mplaces\u001b[0m\u001b[0;34m=\u001b[0m\u001b[0mlist\u001b[0m\u001b[0;34m(\u001b[0m\u001b[0;34m'*'\u001b[0m\u001b[0;34m*\u001b[0m\u001b[0mlen\u001b[0m\u001b[0;34m(\u001b[0m\u001b[0mrandom_word\u001b[0m\u001b[0;34m)\u001b[0m\u001b[0;34m)\u001b[0m\u001b[0;34m\u001b[0m\u001b[0;34m\u001b[0m\u001b[0m\n\u001b[1;32m     12\u001b[0m \u001b[0;32mwhile\u001b[0m \u001b[0;32mTrue\u001b[0m\u001b[0;34m:\u001b[0m\u001b[0;34m\u001b[0m\u001b[0;34m\u001b[0m\u001b[0m\n\u001b[0;32m---> 13\u001b[0;31m     \u001b[0mpred\u001b[0m \u001b[0;34m=\u001b[0m \u001b[0minput\u001b[0m\u001b[0;34m(\u001b[0m\u001b[0;34m'Введи букву или слово: '\u001b[0m\u001b[0;34m)\u001b[0m\u001b[0;34m\u001b[0m\u001b[0;34m\u001b[0m\u001b[0m\n\u001b[0m\u001b[1;32m     14\u001b[0m     \u001b[0mtries\u001b[0m\u001b[0;34m+=\u001b[0m\u001b[0;36m1\u001b[0m\u001b[0;34m\u001b[0m\u001b[0;34m\u001b[0m\u001b[0m\n\u001b[1;32m     15\u001b[0m     \u001b[0;32mif\u001b[0m \u001b[0mpred\u001b[0m\u001b[0;34m==\u001b[0m\u001b[0mrandom_word\u001b[0m\u001b[0;34m:\u001b[0m\u001b[0;34m\u001b[0m\u001b[0;34m\u001b[0m\u001b[0m\n",
            "\u001b[0;32m/usr/local/lib/python3.10/dist-packages/ipykernel/kernelbase.py\u001b[0m in \u001b[0;36mraw_input\u001b[0;34m(self, prompt)\u001b[0m\n\u001b[1;32m    849\u001b[0m                 \u001b[0;34m\"raw_input was called, but this frontend does not support input requests.\"\u001b[0m\u001b[0;34m\u001b[0m\u001b[0;34m\u001b[0m\u001b[0m\n\u001b[1;32m    850\u001b[0m             )\n\u001b[0;32m--> 851\u001b[0;31m         return self._input_request(str(prompt),\n\u001b[0m\u001b[1;32m    852\u001b[0m             \u001b[0mself\u001b[0m\u001b[0;34m.\u001b[0m\u001b[0m_parent_ident\u001b[0m\u001b[0;34m,\u001b[0m\u001b[0;34m\u001b[0m\u001b[0;34m\u001b[0m\u001b[0m\n\u001b[1;32m    853\u001b[0m             \u001b[0mself\u001b[0m\u001b[0;34m.\u001b[0m\u001b[0m_parent_header\u001b[0m\u001b[0;34m,\u001b[0m\u001b[0;34m\u001b[0m\u001b[0;34m\u001b[0m\u001b[0m\n",
            "\u001b[0;32m/usr/local/lib/python3.10/dist-packages/ipykernel/kernelbase.py\u001b[0m in \u001b[0;36m_input_request\u001b[0;34m(self, prompt, ident, parent, password)\u001b[0m\n\u001b[1;32m    893\u001b[0m             \u001b[0;32mexcept\u001b[0m \u001b[0mKeyboardInterrupt\u001b[0m\u001b[0;34m:\u001b[0m\u001b[0;34m\u001b[0m\u001b[0;34m\u001b[0m\u001b[0m\n\u001b[1;32m    894\u001b[0m                 \u001b[0;31m# re-raise KeyboardInterrupt, to truncate traceback\u001b[0m\u001b[0;34m\u001b[0m\u001b[0;34m\u001b[0m\u001b[0m\n\u001b[0;32m--> 895\u001b[0;31m                 \u001b[0;32mraise\u001b[0m \u001b[0mKeyboardInterrupt\u001b[0m\u001b[0;34m(\u001b[0m\u001b[0;34m\"Interrupted by user\"\u001b[0m\u001b[0;34m)\u001b[0m \u001b[0;32mfrom\u001b[0m \u001b[0;32mNone\u001b[0m\u001b[0;34m\u001b[0m\u001b[0;34m\u001b[0m\u001b[0m\n\u001b[0m\u001b[1;32m    896\u001b[0m             \u001b[0;32mexcept\u001b[0m \u001b[0mException\u001b[0m \u001b[0;32mas\u001b[0m \u001b[0me\u001b[0m\u001b[0;34m:\u001b[0m\u001b[0;34m\u001b[0m\u001b[0;34m\u001b[0m\u001b[0m\n\u001b[1;32m    897\u001b[0m                 \u001b[0mself\u001b[0m\u001b[0;34m.\u001b[0m\u001b[0mlog\u001b[0m\u001b[0;34m.\u001b[0m\u001b[0mwarning\u001b[0m\u001b[0;34m(\u001b[0m\u001b[0;34m\"Invalid Message:\"\u001b[0m\u001b[0;34m,\u001b[0m \u001b[0mexc_info\u001b[0m\u001b[0;34m=\u001b[0m\u001b[0;32mTrue\u001b[0m\u001b[0;34m)\u001b[0m\u001b[0;34m\u001b[0m\u001b[0;34m\u001b[0m\u001b[0m\n",
            "\u001b[0;31mKeyboardInterrupt\u001b[0m: Interrupted by user"
          ]
        }
      ],
      "source": [
        "from random import choiceа\n",
        "words = ['дерево', 'окно', 'кошка', 'река', 'молоко', 'город', 'улица', 'книга', 'школа', 'вечер',\n",
        "        'работа', 'дом', 'море', 'цветок', 'стол', 'машина', 'звезда', 'человек', 'птица', 'дождь']\n",
        "\n",
        "random_word=choice(words)\n",
        "print('бобро пожаловать в виселицу, количество попыток на слово - 10')\n",
        "\n",
        "print(random_word)\n",
        "pred_list=[]\n",
        "tries=0\n",
        "places=list('*'*len(random_word))\n",
        "while True:\n",
        "    pred = input('Введи букву или слово: ')\n",
        "    tries+=1\n",
        "    if pred==random_word:\n",
        "        print('вы угадали слово %s!' % random_word)\n",
        "        break\n",
        "    if pred in pred_list:\n",
        "            print('вы уже угадывали эту букву')\n",
        "            continue\n",
        "    if pred in random_word and len(pred)<2:\n",
        "        for i in range(len(random_word)):\n",
        "            if random_word[i]==pred:\n",
        "                places[i] = pred\n",
        "        pred_list.append(pred)\n",
        "\n",
        "        print(f'Вы угадали букву {pred}, слово выглядит как {\"\".join(places)}')\n",
        "    else:\n",
        "        print('Вы не угадали')\n",
        "    if set(pred_list) == set(random_word) and tries < 10:\n",
        "        print('вы угадали слово %s' % random_word)\n",
        "        break"
      ]
    },
    {
      "cell_type": "markdown",
      "metadata": {
        "id": "w0x3QFGzKtDD"
      },
      "source": [
        "# **Дополнительно: Задача 6 (для тех, кто не сделал в прошлый раз)**\n"
      ]
    },
    {
      "cell_type": "markdown",
      "metadata": {
        "id": "QqZArcpHJxVj"
      },
      "source": [
        "\n",
        "**Цифра на определенном месте:**\n",
        "\n",
        "Последовательно записан натуральный ряд чисел.\n",
        "\n",
        "Какая цифра стоит в N позиции\n",
        "\n",
        "\n",
        "Вввод:\n",
        "\n",
        "```\n",
        "Введите номер позиции: 1234567890\n",
        "```\n",
        "\n",
        "Вывод:\n",
        "\n",
        "```\n",
        "8\n",
        "```"
      ]
    },
    {
      "cell_type": "code",
      "execution_count": null,
      "metadata": {
        "id": "LwjYwBGcKiJ9"
      },
      "outputs": [],
      "source": []
    }
  ],
  "metadata": {
    "colab": {
      "provenance": []
    },
    "kernelspec": {
      "display_name": "Python 3",
      "name": "python3"
    },
    "language_info": {
      "name": "python"
    }
  },
  "nbformat": 4,
  "nbformat_minor": 0
}