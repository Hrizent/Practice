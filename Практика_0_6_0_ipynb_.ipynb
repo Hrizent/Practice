{
  "nbformat": 4,
  "nbformat_minor": 0,
  "metadata": {
    "colab": {
      "provenance": []
    },
    "kernelspec": {
      "name": "python3",
      "display_name": "Python 3"
    },
    "language_info": {
      "name": "python"
    }
  },
  "cells": [
    {
      "cell_type": "code",
      "source": [
        "Есмуханов Арман Еркинович"
      ],
      "metadata": {
        "id": "fKAePO0auKwM"
      },
      "execution_count": null,
      "outputs": []
    },
    {
      "cell_type": "markdown",
      "source": [
        "\n",
        "\n",
        "---\n",
        "\n"
      ],
      "metadata": {
        "id": "tKNG_RzWxG6g"
      }
    },
    {
      "cell_type": "markdown",
      "source": [
        "# **Дисклеймер**\n",
        "\n",
        "В данной практике будет введен дополнительный критерий: чистота и читаемость кода, а также соблюдение правил описанных в начале практики"
      ],
      "metadata": {
        "id": "cFcrKfclKWh0"
      }
    },
    {
      "cell_type": "markdown",
      "source": [
        "\n",
        "\n",
        "---\n",
        "\n"
      ],
      "metadata": {
        "id": "0SnE87X1xDlV"
      }
    },
    {
      "cell_type": "markdown",
      "source": [
        "# Задание 1\n",
        "\n",
        "**Задача:**\n",
        "\n",
        "Напишите функцию очищающий список от дубликтов\n",
        "\n",
        "\n",
        "*Запрещено:*\n",
        "\n",
        "*   Использовать set() или готовые функции очищающие список от дубликатов\n",
        "\n",
        "Вввод:\n",
        "\n",
        "```\n",
        "apple banana apple 1 3 4 4 5\n",
        "```\n",
        "\n",
        "\n",
        "Вывод:\n",
        "\n",
        "```\n",
        "apple banana 1 3 4 5\n",
        "```\n",
        "\n"
      ],
      "metadata": {
        "id": "VxawR9NubT_F"
      }
    },
    {
      "cell_type": "code",
      "source": [
        "ls=list(input().split(' '))\n",
        "filtered_ls=[]\n",
        "\n",
        "for elem in ls:\n",
        "  if filtered_ls.count(elem) < 1:\n",
        "    filtered_ls.append(elem)\n",
        "\n",
        "print(filtered_ls)"
      ],
      "metadata": {
        "id": "ml5gnbPXbeju",
        "outputId": "b5f5c252-ec58-4324-d9e7-dec67b7206f2",
        "colab": {
          "base_uri": "https://localhost:8080/"
        }
      },
      "execution_count": null,
      "outputs": [
        {
          "output_type": "stream",
          "name": "stdout",
          "text": [
            "apple banana apple 1 3 4 4 5 apple apple apple\n",
            "['apple', 'banana', '1', '3', '4', '5']\n"
          ]
        }
      ]
    },
    {
      "cell_type": "markdown",
      "source": [
        "# Задание 2\n",
        "\n",
        "**Задача:**\n",
        "\n",
        "Написать функцию для нахождения простых чисел в диапазоне\n",
        "\n",
        "Ввод:\n",
        "\n",
        "```\n",
        "10, 50\n",
        "```\n",
        "\n",
        "Вывод:\n",
        "\n",
        "```\n",
        "11, 13, 17, 19, 23, 29, 31, 37, 41, 43, 47\n",
        "```"
      ],
      "metadata": {
        "id": "y05x0eD0cVCC"
      }
    },
    {
      "cell_type": "code",
      "source": [
        "a,b=map(int, input().split(', '))\n",
        "\n",
        "primes=[]\n",
        "\n",
        "for i in range(a,b+1):\n",
        "  is_div_greater_1 = True\n",
        "  for j in range(2, int(i**0.5) + 1):\n",
        "    if i%j==0:\n",
        "      is_div_greater_1 = False\n",
        "      break\n",
        "  if is_div_greater_1:\n",
        "    primes.append(i)\n",
        "\n",
        "print(*primes)\n"
      ],
      "metadata": {
        "id": "XSMJnLgrc6Bf",
        "outputId": "9d9a0174-b791-44e2-e180-141996d553f7",
        "colab": {
          "base_uri": "https://localhost:8080/"
        }
      },
      "execution_count": null,
      "outputs": [
        {
          "output_type": "stream",
          "name": "stdout",
          "text": [
            "10, 50\n",
            "11 13 17 19 23 29 31 37 41 43 47\n"
          ]
        }
      ]
    },
    {
      "cell_type": "markdown",
      "source": [
        "# Задание 3\n",
        "\n",
        "Напишите функцию для объединения двух списков (список ключей и список значении) в словарь\n",
        "\n",
        "*Запрещено:*\n",
        "\n",
        "*   Использования готовых функции для объединения списков (пример: zip() )\n",
        "\n",
        "Дано:\n",
        "\n",
        "```\n",
        "keys = ['a', 'b', 'c', 'e' ]\n",
        "values = [1, 2, 3, 4]\n",
        "```\n",
        "\n",
        "Вывод:\n",
        "```\n",
        "{'a': 1, 'b': 2, 'c': 3, 'e': 4}\n",
        "```\n",
        "\n",
        "\n"
      ],
      "metadata": {
        "id": "vYM0LyxxdElN"
      }
    },
    {
      "cell_type": "code",
      "source": [
        "keys = ['a', 'b', 'c', 'e' ]\n",
        "values = [1, 2, 3, 4]\n",
        "new_dict={}\n",
        "\n",
        "for i in range(len(keys)):\n",
        "  new_dict[keys[i]] = values[i]\n",
        "\n",
        "print(new_dict)"
      ],
      "metadata": {
        "id": "CRvhHTjCdvjS",
        "outputId": "e8758e4f-456c-406c-d516-971d183d3ddf",
        "colab": {
          "base_uri": "https://localhost:8080/"
        }
      },
      "execution_count": null,
      "outputs": [
        {
          "output_type": "stream",
          "name": "stdout",
          "text": [
            "{'a': 1, 'b': 2, 'c': 3, 'e': 4}\n"
          ]
        }
      ]
    },
    {
      "cell_type": "markdown",
      "source": [
        "# Задание 4\n",
        "\n",
        "Напишите функцию(ии) для подсчета статистических параметров:\n",
        "*   Сумму\n",
        "*   Среднее арифметическое\n",
        "*   Медиану\n",
        "*   Моду\n",
        "\n",
        "\n",
        "*Запрещено:*\n",
        "\n",
        "*   sum()\n",
        "*   sorted()\n",
        "*   и других функции предоставляющих готовое решение задания\n",
        "\n",
        "Дано:\n",
        "\n",
        "```\n",
        "numbers = [1, 2, 2, 3, 4, 5, 6, 7, 8 ,9 ,10]\n",
        "\n",
        "```\n",
        "\n",
        "Вывод:\n",
        "```\n",
        "{'mean': 5.181818181818182, 'median': 5, 'mode': 2, 'sum': 57}\n",
        "```\n"
      ],
      "metadata": {
        "id": "L_w8H8i-fQcP"
      }
    },
    {
      "cell_type": "code",
      "source": [
        "numbers = [1, 2, 2, 3, 4, 5, 11, 7, 8 ,9 ,10, 12, 13]\n",
        "sm=0\n",
        "mean=0\n",
        "median=0\n",
        "mode=0\n",
        "\n",
        "for number in numbers:\n",
        "  sm+=number\n",
        "\n",
        "mean=sm/len(numbers)\n",
        "\n",
        "if len(numbers)%2==1:\n",
        "  median = numbers[len(numbers)-len(numbers)//2 - 1]\n",
        "else:\n",
        "  median = (numbers[len(numbers)//2 - 1] + numbers[len(numbers)//2])/2\n",
        "\n",
        "\n",
        "for number in numbers:\n",
        "  mode = max(numbers.count(number), mode)\n",
        "\n",
        "ans={\n",
        "    'mean': mean,\n",
        "    'median': median,\n",
        "    'mode': mode,\n",
        "    'sum': sm\n",
        "}\n",
        "print(ans)"
      ],
      "metadata": {
        "id": "dW6jW_rjfuba",
        "outputId": "db347595-706f-4f43-ae23-18aa33a8269c",
        "colab": {
          "base_uri": "https://localhost:8080/"
        }
      },
      "execution_count": null,
      "outputs": [
        {
          "output_type": "stream",
          "name": "stdout",
          "text": [
            "{'mean': 6.6923076923076925, 'median': 11, 'mode': 2, 'sum': 87}\n"
          ]
        }
      ]
    },
    {
      "cell_type": "markdown",
      "source": [
        "# Задание 5\n",
        "\n",
        "На ввод поступает строка символов. Строка состоит из слов, которые отделены друг от друга пробелами. Необходимо вывести самое длинное слово и его порядковый номер.\n",
        "\n",
        "*Запрещено:*\n",
        "\n",
        "*   len()\n",
        "\n",
        "Дано:\n",
        "\n",
        "```\n",
        "Страдание и боль всегда обязательны для широкого сознания и глубокого сердца.\n",
        "\n",
        "```\n",
        "\n",
        "Вывод:\n",
        "```\n",
        "Самое длинное слово с номером 5: обязательны\n",
        "```"
      ],
      "metadata": {
        "id": "hZW0NZ7SgTcp"
      }
    },
    {
      "cell_type": "code",
      "source": [
        "msg='Страдание и боль всегда обязательны для широкого сознания и глубокого сердца.'\n",
        "msg=msg[: -1].split()\n",
        "longest_word=0\n",
        "mx_len=0\n",
        "words_count=0\n",
        "\n",
        "for word in msg:\n",
        "  len_word=0\n",
        "  words_count+=1\n",
        "  for letter in word:\n",
        "    len_word+=1\n",
        "  mx_len=max(mx_len, len_word)\n",
        "\n",
        "for i in range(words_count):\n",
        "  len_word=0\n",
        "  for letter in msg[i]:\n",
        "    len_word+=1\n",
        "  if len_word==mx_len:\n",
        "    longest_word=msg[i]\n",
        "\n",
        "print(longest_word,mx_len)"
      ],
      "metadata": {
        "id": "rC5DpHHLsDYp",
        "outputId": "e9ecc129-487f-4b41-935b-20a85fa115bd",
        "colab": {
          "base_uri": "https://localhost:8080/"
        }
      },
      "execution_count": null,
      "outputs": [
        {
          "output_type": "stream",
          "name": "stdout",
          "text": [
            "обязательны 11\n"
          ]
        }
      ]
    },
    {
      "cell_type": "markdown",
      "source": [
        "# Задание 6\n",
        "\n",
        "Напишите программу, для управления оценками студентов, со следующими функциями:\n",
        "\n",
        "* Добавление информации о студенте и его оценках.\n",
        "* Подсчет среднего балла студента.\n",
        "* Получение списка всех студентов с их средними баллами.\n",
        "* Поиск студента по имени и вывод его оценок и среднего балла.\n",
        "\n",
        "\n",
        "\n"
      ],
      "metadata": {
        "id": "k5BzJW5ZeaQN"
      }
    },
    {
      "cell_type": "code",
      "source": [
        "students={}\n",
        "\n",
        "def add_student():\n",
        "  name=input('Введите имя студента: ')\n",
        "  surname=input('Введите фамилию студента: ')\n",
        "  grades=list(map(int, (input('Введите оценки студента: '))))\n",
        "  score=sum(students[name+' '+surname])/len(students[name+' '+surname])\n",
        "  students[name+ ' '+ surname] = [grades, score]\n",
        "  print('Информация о студенте {0} {1} добавлена'.format(name,surname))\n",
        "\n",
        "def score_calc():\n",
        "  name=input('Введите имя студента: ')\n",
        "  surname=input('Введите фамилию студента: ')\n",
        "  print(f'Средний балл студента {name} {surname} равен {students[name+\" \"+surname][1]}')\n",
        "\n",
        "def show_students():\n",
        "  print('Вот все студенты и их средний балл:')\n",
        "  for student in students:\n",
        "    print(student, students[student][1])\n",
        "\n",
        "def search_student():\n",
        "  name=input('Введите имя студента: ')\n",
        "  surname=input('Введите фамилию студента: ')\n",
        "  print(f'Оценки студента {name} {surname} - {students[name+ \" \"+ surname][0]}, средний балл - {students[name+ \" \"+ surname][1]}')\n",
        "\n",
        "\n",
        "search_student()"
      ],
      "metadata": {
        "id": "cvhlltVbdyoL",
        "outputId": "62315358-dfd5-40e3-a89a-f47491b02d7a",
        "colab": {
          "base_uri": "https://localhost:8080/"
        }
      },
      "execution_count": null,
      "outputs": [
        {
          "output_type": "stream",
          "name": "stdout",
          "text": [
            "Введите имя студента: Хуй\n",
            "Введите фамилию студента: Хуев\n",
            "Оценки студента Хуй Хуев - [2, 3, 4, 5, 2, 3], средний балл - 3.1666666666666665\n"
          ]
        }
      ]
    },
    {
      "cell_type": "markdown",
      "source": [
        "# Задание 7\n",
        "\n",
        "\n",
        "**Задача:**\n",
        "\n",
        "Создайте приложение-викторину с командной строкой, которое задает пользователям вопросы по различным темам и отслеживает их результаты.\n",
        "\n",
        "Ключевые особенности:\n",
        "\n",
        "*   Хранение данных о вопросах и ответах на них, а также баллов за каждый вопрос\n",
        "*   Реализуйте функцию для представления вопросов, принятия ответов пользователей и предоставления обратной связи о том, являются ли ответы правильными или неправильными.\n",
        "*  После завершения викторины отобразите общий балл пользователя из числа ответов на вопросы.\n",
        "*  Реализуйте функцию добавления нового вопроса\n",
        "*  Реализуйте функцию перемешивания вопросов, для отображения случайного вопроса\n"
      ],
      "metadata": {
        "id": "iQ8Z-7PYgu1_"
      }
    },
    {
      "cell_type": "code",
      "source": [
        "import random as rand\n",
        "qnas={\n",
        "    'Как называется страх перед мелкими скоплениями отверстий?': 'Трипофобия',\n",
        "    'Сколько костей в человеческом теле?': '206',\n",
        "    'Как назывался первый в истории фильм о собаках?': 'Возвращение Лесси',\n",
        "    'Как зовут человека за образом Мистера Бина?': 'Роуэн Аткинсон',\n",
        "    'Какое первое название было у мороженого?': 'Джелато'\n",
        "}\n",
        "print('Бобро пожаловать в викторину')\n",
        "\n",
        "print('Доступные команды:', '1 - продолжить/начать игру', \"2 - окончить игру\", \"3 - добавить новый вопрос\", sep='\\n')\\\n",
        "\n",
        "def quiz():\n",
        "  c=1\n",
        "  points=0\n",
        "  for q in qnas:\n",
        "    print(f'Вопрос {c}: {q}')\n",
        "    answer= input(f'...Ваш ответ: ')\n",
        "    if answer.lower() == qnas[q].lower():\n",
        "      print('И это правильный ответ!!! ГОЙДАААААА')\n",
        "      points+=1\n",
        "    else:\n",
        "      print('К сожалению, вы не угадали(')\n",
        "    c+=1\n",
        "  print(f'Ваш итоговый счет за игру: {points}/{len(qnas)}')\n",
        "\n",
        "def add_question():\n",
        "  new_q=input('Введите новый вопрос: ')\n",
        "  new_ans=input('Введите ответ на него: ')\n",
        "  qnas[new_q] = new_ans\n",
        "  print('Новый вопрос добавлен в викторину')\n",
        "\n",
        "\n",
        "def shuffle_questions():\n",
        "  print(rand.choice(list(qnas)))\n",
        "\n",
        "while True:\n",
        "  try:\n",
        "    choice=int(input('Введите команду: '))\n",
        "  except:\n",
        "    print('несуществующая команда')\n",
        "  match choice:\n",
        "    case 1:\n",
        "      quiz()\n",
        "    case 2:\n",
        "      break\n",
        "    case 3:\n",
        "      add_question()"
      ],
      "metadata": {
        "id": "DhxyYwHwh2V4",
        "outputId": "c9ca98ef-1b8e-4756-dc17-1f15ce32ef0f",
        "colab": {
          "base_uri": "https://localhost:8080/",
          "height": 894
        }
      },
      "execution_count": null,
      "outputs": [
        {
          "output_type": "stream",
          "name": "stdout",
          "text": [
            "Бобро пожаловать в викторину\n",
            "Доступные команды:\n",
            "1 - продолжить/начать игру\n",
            "2 - окончить игру\n",
            "3 - добавить новый вопрос\n",
            "Введите команду: 3\n",
            "Введите новый вопрос: Как зовут хуй\n",
            "Введите ответ на него: хуй\n",
            "Новый вопрос добавлен в викторину\n",
            "Введите команду: 1\n",
            "Вопрос 1: Как называется страх перед мелкими скоплениями отверстий?\n",
            "...Ваш ответ: хз\n",
            "К сожалению, вы не угадали(\n",
            "Вопрос 2: Сколько костей в человеческом теле?\n",
            "...Ваш ответ: ъх\n",
            "К сожалению, вы не угадали(\n",
            "Вопрос 3: Как назывался первый в истории фильм о собаках?\n",
            "...Ваш ответ: хывф\n",
            "К сожалению, вы не угадали(\n",
            "Вопрос 4: Как зовут человека за образом Мистера Бина?\n",
            "...Ваш ответ: ыва\n",
            "К сожалению, вы не угадали(\n",
            "Вопрос 5: Какое первое название было у мороженого?\n",
            "...Ваш ответ: ф\n",
            "К сожалению, вы не угадали(\n",
            "Вопрос 6: Как зовут хуй\n",
            "...Ваш ответ: хуй\n",
            "И это правильный ответ!!! ГОЙДАААААА\n",
            "Ваш итоговый счет за игру: 1/6\n",
            "несуществующая команда\n",
            "Вопрос 1: Как называется страх перед мелкими скоплениями отверстий?\n"
          ]
        },
        {
          "output_type": "error",
          "ename": "KeyboardInterrupt",
          "evalue": "Interrupted by user",
          "traceback": [
            "\u001b[0;31m---------------------------------------------------------------------------\u001b[0m",
            "\u001b[0;31mKeyboardInterrupt\u001b[0m                         Traceback (most recent call last)",
            "\u001b[0;32m<ipython-input-68-2faaec5a5240>\u001b[0m in \u001b[0;36m<cell line: 40>\u001b[0;34m()\u001b[0m\n\u001b[1;32m     45\u001b[0m   \u001b[0mmatch\u001b[0m \u001b[0mchoice\u001b[0m\u001b[0;34m:\u001b[0m\u001b[0;34m\u001b[0m\u001b[0;34m\u001b[0m\u001b[0m\n\u001b[1;32m     46\u001b[0m     \u001b[0mcase\u001b[0m \u001b[0;36m1\u001b[0m\u001b[0;34m:\u001b[0m\u001b[0;34m\u001b[0m\u001b[0;34m\u001b[0m\u001b[0m\n\u001b[0;32m---> 47\u001b[0;31m       \u001b[0mquiz\u001b[0m\u001b[0;34m(\u001b[0m\u001b[0;34m)\u001b[0m\u001b[0;34m\u001b[0m\u001b[0;34m\u001b[0m\u001b[0m\n\u001b[0m\u001b[1;32m     48\u001b[0m     \u001b[0mcase\u001b[0m \u001b[0;36m2\u001b[0m\u001b[0;34m:\u001b[0m\u001b[0;34m\u001b[0m\u001b[0;34m\u001b[0m\u001b[0m\n\u001b[1;32m     49\u001b[0m       \u001b[0;32mbreak\u001b[0m\u001b[0;34m\u001b[0m\u001b[0;34m\u001b[0m\u001b[0m\n",
            "\u001b[0;32m<ipython-input-68-2faaec5a5240>\u001b[0m in \u001b[0;36mquiz\u001b[0;34m()\u001b[0m\n\u001b[1;32m     16\u001b[0m   \u001b[0;32mfor\u001b[0m \u001b[0mq\u001b[0m \u001b[0;32min\u001b[0m \u001b[0mqnas\u001b[0m\u001b[0;34m:\u001b[0m\u001b[0;34m\u001b[0m\u001b[0;34m\u001b[0m\u001b[0m\n\u001b[1;32m     17\u001b[0m     \u001b[0mprint\u001b[0m\u001b[0;34m(\u001b[0m\u001b[0;34mf'Вопрос {c}: {q}'\u001b[0m\u001b[0;34m)\u001b[0m\u001b[0;34m\u001b[0m\u001b[0;34m\u001b[0m\u001b[0m\n\u001b[0;32m---> 18\u001b[0;31m     \u001b[0manswer\u001b[0m\u001b[0;34m=\u001b[0m \u001b[0minput\u001b[0m\u001b[0;34m(\u001b[0m\u001b[0;34mf'...Ваш ответ: '\u001b[0m\u001b[0;34m)\u001b[0m\u001b[0;34m\u001b[0m\u001b[0;34m\u001b[0m\u001b[0m\n\u001b[0m\u001b[1;32m     19\u001b[0m     \u001b[0;32mif\u001b[0m \u001b[0manswer\u001b[0m\u001b[0;34m.\u001b[0m\u001b[0mlower\u001b[0m\u001b[0;34m(\u001b[0m\u001b[0;34m)\u001b[0m \u001b[0;34m==\u001b[0m \u001b[0mqnas\u001b[0m\u001b[0;34m[\u001b[0m\u001b[0mq\u001b[0m\u001b[0;34m]\u001b[0m\u001b[0;34m.\u001b[0m\u001b[0mlower\u001b[0m\u001b[0;34m(\u001b[0m\u001b[0;34m)\u001b[0m\u001b[0;34m:\u001b[0m\u001b[0;34m\u001b[0m\u001b[0;34m\u001b[0m\u001b[0m\n\u001b[1;32m     20\u001b[0m       \u001b[0mprint\u001b[0m\u001b[0;34m(\u001b[0m\u001b[0;34m'И это правильный ответ!!! ГОЙДАААААА'\u001b[0m\u001b[0;34m)\u001b[0m\u001b[0;34m\u001b[0m\u001b[0;34m\u001b[0m\u001b[0m\n",
            "\u001b[0;32m/usr/local/lib/python3.10/dist-packages/ipykernel/kernelbase.py\u001b[0m in \u001b[0;36mraw_input\u001b[0;34m(self, prompt)\u001b[0m\n\u001b[1;32m    849\u001b[0m                 \u001b[0;34m\"raw_input was called, but this frontend does not support input requests.\"\u001b[0m\u001b[0;34m\u001b[0m\u001b[0;34m\u001b[0m\u001b[0m\n\u001b[1;32m    850\u001b[0m             )\n\u001b[0;32m--> 851\u001b[0;31m         return self._input_request(str(prompt),\n\u001b[0m\u001b[1;32m    852\u001b[0m             \u001b[0mself\u001b[0m\u001b[0;34m.\u001b[0m\u001b[0m_parent_ident\u001b[0m\u001b[0;34m,\u001b[0m\u001b[0;34m\u001b[0m\u001b[0;34m\u001b[0m\u001b[0m\n\u001b[1;32m    853\u001b[0m             \u001b[0mself\u001b[0m\u001b[0;34m.\u001b[0m\u001b[0m_parent_header\u001b[0m\u001b[0;34m,\u001b[0m\u001b[0;34m\u001b[0m\u001b[0;34m\u001b[0m\u001b[0m\n",
            "\u001b[0;32m/usr/local/lib/python3.10/dist-packages/ipykernel/kernelbase.py\u001b[0m in \u001b[0;36m_input_request\u001b[0;34m(self, prompt, ident, parent, password)\u001b[0m\n\u001b[1;32m    893\u001b[0m             \u001b[0;32mexcept\u001b[0m \u001b[0mKeyboardInterrupt\u001b[0m\u001b[0;34m:\u001b[0m\u001b[0;34m\u001b[0m\u001b[0;34m\u001b[0m\u001b[0m\n\u001b[1;32m    894\u001b[0m                 \u001b[0;31m# re-raise KeyboardInterrupt, to truncate traceback\u001b[0m\u001b[0;34m\u001b[0m\u001b[0;34m\u001b[0m\u001b[0m\n\u001b[0;32m--> 895\u001b[0;31m                 \u001b[0;32mraise\u001b[0m \u001b[0mKeyboardInterrupt\u001b[0m\u001b[0;34m(\u001b[0m\u001b[0;34m\"Interrupted by user\"\u001b[0m\u001b[0;34m)\u001b[0m \u001b[0;32mfrom\u001b[0m \u001b[0;32mNone\u001b[0m\u001b[0;34m\u001b[0m\u001b[0;34m\u001b[0m\u001b[0m\n\u001b[0m\u001b[1;32m    896\u001b[0m             \u001b[0;32mexcept\u001b[0m \u001b[0mException\u001b[0m \u001b[0;32mas\u001b[0m \u001b[0me\u001b[0m\u001b[0;34m:\u001b[0m\u001b[0;34m\u001b[0m\u001b[0;34m\u001b[0m\u001b[0m\n\u001b[1;32m    897\u001b[0m                 \u001b[0mself\u001b[0m\u001b[0;34m.\u001b[0m\u001b[0mlog\u001b[0m\u001b[0;34m.\u001b[0m\u001b[0mwarning\u001b[0m\u001b[0;34m(\u001b[0m\u001b[0;34m\"Invalid Message:\"\u001b[0m\u001b[0;34m,\u001b[0m \u001b[0mexc_info\u001b[0m\u001b[0;34m=\u001b[0m\u001b[0;32mTrue\u001b[0m\u001b[0;34m)\u001b[0m\u001b[0;34m\u001b[0m\u001b[0;34m\u001b[0m\u001b[0m\n",
            "\u001b[0;31mKeyboardInterrupt\u001b[0m: Interrupted by user"
          ]
        }
      ]
    }
  ]
}