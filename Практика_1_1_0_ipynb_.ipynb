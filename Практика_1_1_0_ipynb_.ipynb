{
  "nbformat": 4,
  "nbformat_minor": 0,
  "metadata": {
    "colab": {
      "provenance": []
    },
    "kernelspec": {
      "name": "python3",
      "display_name": "Python 3"
    },
    "language_info": {
      "name": "python"
    }
  },
  "cells": [
    {
      "cell_type": "markdown",
      "source": [
        "**ФИО:**"
      ],
      "metadata": {
        "id": "GEsFKJm-ABFp"
      }
    },
    {
      "cell_type": "code",
      "execution_count": null,
      "metadata": {
        "id": "wZMLYG_G_-19"
      },
      "outputs": [],
      "source": [
        "Есмуханов Арман Еркинович"
      ]
    },
    {
      "cell_type": "markdown",
      "source": [
        "# Задание 1"
      ],
      "metadata": {
        "id": "H4DrYnJjADuZ"
      }
    },
    {
      "cell_type": "markdown",
      "source": [
        "**Описание:** Создайте иерархию классов для разных типов сотрудников в компании. Реализуйте родительский класс Employee и дочерние классы Manager и Developer. Каждый класс должен иметь метод для расчета зарплаты на основе различных критериев класса.\n",
        "\n",
        "\n",
        "Отрабатываемый принцип: Наследование\n",
        "\n"
      ],
      "metadata": {
        "id": "C17FWep-AF4a"
      }
    },
    {
      "cell_type": "code",
      "source": [
        "class Employee:\n",
        "    def __init__(self, name, hours_worked, hourly_rate):\n",
        "        self.name = name\n",
        "        self.hours_worked = hours_worked\n",
        "        self.hourly_rate = hourly_rate\n",
        "\n",
        "    def calculate_salary(self):\n",
        "        salary = self.hourly_rate * self.hours_worked\n",
        "        return f'зарплата {self.name} составляет {salary}'\n",
        "\n",
        "\n",
        "class Manager(Employee):\n",
        "    def __init__(self, name, hours_worked, hourly_rate, bonus):\n",
        "        super().__init__(name, hours_worked, hourly_rate)\n",
        "        self.bonus = bonus\n",
        "\n",
        "    def calculate_salary(self):\n",
        "        salary = self.hourly_rate * self.hours_worked + self.bonus\n",
        "        return f'зарплата {self.name} составляет {salary}'\n",
        "\n",
        "\n",
        "class Developer(Employee):\n",
        "    def __init__(self, name, hours_worked, hourly_rate):\n",
        "        super().__init__(name, hours_worked, hourly_rate)\n",
        "\n",
        "\n",
        "employee_example = Employee('miha', 100, 300)\n",
        "manager_example = Manager('saha', 200, 300, 3203)\n",
        "dev_example = Developer('iha', 100, 300)\n",
        "\n",
        "print(employee_example.calculate_salary())\n",
        "print(manager_example.calculate_salary())\n",
        "print(dev_example.calculate_salary())"
      ],
      "metadata": {
        "id": "aexGXzqCAFH7"
      },
      "execution_count": null,
      "outputs": []
    },
    {
      "cell_type": "markdown",
      "source": [
        "# Задание 2"
      ],
      "metadata": {
        "id": "ERAi0TG5BI6v"
      }
    },
    {
      "cell_type": "markdown",
      "source": [
        "**Описание:** Создайте иерархию классов для различных типов транспортных средств (Необходим один родительский класс и 3 дочерних). Реализуйте метод, который позволяет каждому транспортному средству возвращать собственное описание (Метод в каждом классе должен иметь одинаковое название). Продемонстрируйте вызов данного метода для каждого транспортного средства.\n",
        "\n",
        "\n",
        "Отрабатываемый принцип: Полиморфизм"
      ],
      "metadata": {
        "id": "sJ3k7ZcgBK87"
      }
    },
    {
      "cell_type": "code",
      "source": [
        "class Vehicle:\n",
        "    def get_description(self):\n",
        "        return 'это транспортное средство'\n",
        "\n",
        "\n",
        "class Bus(Vehicle):\n",
        "    def get_description(self):\n",
        "        return 'это автобус'\n",
        "\n",
        "\n",
        "class Car(Vehicle):\n",
        "    def get_description(self):\n",
        "        return 'это машина'\n",
        "\n",
        "\n",
        "class Lorry(Vehicle):\n",
        "    def get_description(self):\n",
        "        return 'это грузовик'\n",
        "\n",
        "\n",
        "vehicle = Vehicle()\n",
        "bus = Bus()\n",
        "car = Car()\n",
        "lorry = Lorry()\n",
        "\n",
        "print(vehicle.get_description())\n",
        "print(bus.get_description())\n",
        "print(car.get_description())\n",
        "print(lorry.get_description())\n"
      ],
      "metadata": {
        "id": "WOFOZQmDBKf4"
      },
      "execution_count": null,
      "outputs": []
    },
    {
      "cell_type": "markdown",
      "source": [
        "# Задание 3"
      ],
      "metadata": {
        "id": "7E_SJXMJBvD4"
      }
    },
    {
      "cell_type": "markdown",
      "source": [
        "Онлайн-магазин:\n",
        "- Создайте модель для онлайн-магазина с классами Product, Order, Customer, и ShoppingCart.\n",
        "- Product включает информацию о цене, наличии на складе и категории товара.\n",
        "Order обрабатывает процесс покупки, включая расчет цены с учетом скидок и налогов.\n",
        "- Customer управляет информацией о пользователе и его истории заказов.\n",
        "- ShoppingCart позволяет добавлять, удалять и обновлять количество товаров перед оформлением заказа.\n"
      ],
      "metadata": {
        "id": "dd1mwKj_BxHa"
      }
    },
    {
      "cell_type": "code",
      "source": [
        "class Product:\n",
        "    def __init__(self, name, price, stock, category):\n",
        "        self.name = name\n",
        "        self.price = price\n",
        "        self.stock = stock\n",
        "        self.category = category\n",
        "\n",
        "    def is_available(self):\n",
        "        if self.stock > 0:\n",
        "            return 1\n",
        "        return 0\n",
        "\n",
        "\n",
        "class ShoppingCart:\n",
        "    def __init__(self):\n",
        "        self.products = {}\n",
        "\n",
        "    def add_product(self, product, quantity):\n",
        "        if product.is_available() and product.stock >= quantity:\n",
        "            product.stock -= 1\n",
        "            self.products[product] = self.products.get(product, 0) + quantity\n",
        "            product.stock -= quantity\n",
        "        else:\n",
        "            print(f'товар {product.name} не может быть добавлен')\n",
        "\n",
        "    def remove_product(self, product, quantity):\n",
        "        if product in self.products:\n",
        "            if self.products[product] <= quantity:\n",
        "                product.stock += self.products[product]\n",
        "                del self.products[product]\n",
        "            else:\n",
        "                self.products[product] -= quantity\n",
        "                product.stock += quantity\n",
        "\n",
        "    def update_product_quantity(self, product, quantity):\n",
        "        self.remove_product(product, self.products[product])\n",
        "        self.add_product(product, quantity)\n",
        "\n",
        "\n",
        "class Customer:\n",
        "    def __init__(self, name, email):\n",
        "        self.name = name\n",
        "        self.email = email\n",
        "        self.order_history = []\n",
        "\n",
        "    def add_order(self, order):\n",
        "        self.order_history.append(order)\n",
        "\n",
        "\n",
        "class Order:\n",
        "    def __init__(self, customer, cart):\n",
        "        self.customer = customer\n",
        "        self.cart = cart\n",
        "        self.total_price = self.calc_total_price()\n",
        "\n",
        "    def calc_total_price(self, discount=0, taxes=0.1):\n",
        "        total = sum([product.price * quantity for product, quantity in self.cart.products.items()])\n",
        "\n",
        "        total -= total*discount\n",
        "        total += total*taxes\n",
        "        return total\n",
        "\n",
        "\n",
        "customer_ex = Customer('mark', 'firefighter@oklahoma.us')\n",
        "product_ex = Product('acer radeon nitro rx 7700xt', 40799, 50, 'видеокарты')\n",
        "cart = ShoppingCart()\n",
        "cart.add_product(product_ex, 23)\n",
        "\n",
        "order = Order(customer_ex, cart)\n",
        "\n",
        "customer_ex.add_order(order)\n",
        "\n",
        "print(f'итоговая сумма заказов: {order.total_price}')\n",
        "print(f\"История заказов клиента: {[o.total_price for o in customer_ex.order_history]}\")\n"
      ],
      "metadata": {
        "id": "wkCcv_K-Bwdv"
      },
      "execution_count": null,
      "outputs": []
    },
    {
      "cell_type": "markdown",
      "source": [
        "# Задание 4"
      ],
      "metadata": {
        "id": "ih7iPlYfB7lL"
      }
    },
    {
      "cell_type": "markdown",
      "source": [
        "Симулятор космического корабля:\n",
        "- Создайте симулятор управления космическим кораблем с классами SpaceShip, CrewMember, и Mission.\n",
        "- SpaceShip имеет атрибуты для управления топливом, состоянием корпуса, и текущей скоростью.\n",
        "- CrewMember контролирует здоровье, навыки, и роли в команде (например, пилот, инженер).\n",
        "- Mission определяет цели, ресурсы, и возможные события (например, аварии, встречи с астероидами)."
      ],
      "metadata": {
        "id": "zLwqVCbpCBvc"
      }
    },
    {
      "cell_type": "code",
      "source": [
        "cla"
      ],
      "metadata": {
        "id": "4NyrOOy8B9ED"
      },
      "execution_count": null,
      "outputs": []
    },
    {
      "cell_type": "markdown",
      "source": [
        "# Дополнительно:"
      ],
      "metadata": {
        "id": "F7mRVsZjCXk0"
      }
    },
    {
      "cell_type": "markdown",
      "source": [
        "**Описание:** создайте консольную версию игры крестики-нолики, используя классы"
      ],
      "metadata": {
        "id": "X4Lkf86UCc1h"
      }
    },
    {
      "cell_type": "code",
      "source": [],
      "metadata": {
        "id": "x9OxpNsyCcUo"
      },
      "execution_count": null,
      "outputs": []
    }
  ]
}