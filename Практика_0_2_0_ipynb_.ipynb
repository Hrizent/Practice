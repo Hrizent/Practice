{
  "nbformat": 4,
  "nbformat_minor": 0,
  "metadata": {
    "colab": {
      "provenance": []
    },
    "kernelspec": {
      "name": "python3",
      "display_name": "Python 3"
    },
    "language_info": {
      "name": "python"
    }
  },
  "cells": [
    {
      "cell_type": "markdown",
      "source": [
        "Напишите свое ФИО:"
      ],
      "metadata": {
        "id": "0PnTh-ajEoEb"
      }
    },
    {
      "cell_type": "code",
      "source": [
        "print('Привет студентам!')"
      ],
      "metadata": {
        "id": "QyMVPjzWErHw",
        "colab": {
          "base_uri": "https://localhost:8080/"
        },
        "outputId": "7a1724de-56a9-4b4e-f7dd-d5fca42ff012"
      },
      "execution_count": null,
      "outputs": [
        {
          "output_type": "stream",
          "name": "stdout",
          "text": [
            "Привет студентам!\n"
          ]
        }
      ]
    },
    {
      "cell_type": "markdown",
      "source": [
        "# Основы"
      ],
      "metadata": {
        "id": "HPwKiIA4EKO-"
      }
    },
    {
      "cell_type": "code",
      "source": [],
      "metadata": {
        "id": "U-Gu91Fk1HuD"
      },
      "execution_count": null,
      "outputs": []
    },
    {
      "cell_type": "markdown",
      "source": [
        "Задание 1: Напиши программу, выводящую на экран сообщение \"Привет, мир!\""
      ],
      "metadata": {
        "id": "8po5IidFERZ8"
      }
    },
    {
      "cell_type": "code",
      "execution_count": null,
      "metadata": {
        "id": "sBRjlCVLEIQr"
      },
      "outputs": [],
      "source": [
        "print('Hello World!')"
      ]
    },
    {
      "cell_type": "markdown",
      "source": [
        "Задание 2: Напиши программу которая запрашивает имя пользователя и выводит сообщение:\n",
        "\n",
        "`Привет, <Имя пользователя>`"
      ],
      "metadata": {
        "id": "pUQIIo94EYLg"
      }
    },
    {
      "cell_type": "code",
      "source": [
        "print('Hello', input())"
      ],
      "metadata": {
        "id": "nNwHKmAnEinH"
      },
      "execution_count": null,
      "outputs": []
    },
    {
      "cell_type": "markdown",
      "source": [
        "Задание 3: Напиши программу определяющую является ли число четным или нечетным:\n",
        "\n",
        "Пример:\n",
        "\n",
        "`Введите число:` 2\n",
        "\n",
        "`Ваше число четное!`"
      ],
      "metadata": {
        "id": "SAUm9W6_Etkh"
      }
    },
    {
      "cell_type": "code",
      "source": [
        "number = int(input())\n",
        "if number %2==0:\n",
        "    print('Ваше число четное!')\n",
        "else:\n",
        "    print('Ваше число нечетное!')"
      ],
      "metadata": {
        "id": "LXv7AIN1E4on"
      },
      "execution_count": null,
      "outputs": []
    },
    {
      "cell_type": "markdown",
      "source": [
        "Задание 4: Напишите программу которая запрашивает длинну и ширину прямоугольника и выводит его площадь:\n",
        "\n",
        "\n",
        "\n",
        "`Введите длинну прямоугольника:`\n",
        "\n",
        "`Введите ширину прямоугольника:`\n",
        "\n",
        "`Площадь прямоугольника: `\n",
        "\n"
      ],
      "metadata": {
        "id": "OW1Y5KyUE_n9"
      }
    },
    {
      "cell_type": "code",
      "source": [
        "length=int(input('Введите длинну прямоугольника:'))\n",
        "width=int(input('Введите ширину прямоугольника:'))\n",
        "print('Площадь прямоугольника:', length*width)"
      ],
      "metadata": {
        "id": "Bu5iawknFbXP"
      },
      "execution_count": null,
      "outputs": []
    },
    {
      "cell_type": "markdown",
      "source": [
        "Задание 5: Напишите программу, которая будет вычислять среднее арифметическое введенных чисел"
      ],
      "metadata": {
        "id": "xj8_QNLsFfLw"
      }
    },
    {
      "cell_type": "code",
      "source": [
        "numbers=[int(input()) for x in int(input())]\n",
        "arithmetic_mean=sum(numbers)/len(numbers)\n",
        "print(arithmetic_mean)"
      ],
      "metadata": {
        "id": "omumX59JFoKw"
      },
      "execution_count": null,
      "outputs": []
    },
    {
      "cell_type": "markdown",
      "source": [
        "Задание 6: Напишите программу, которая бы определяла является ли год високосным\n",
        "Пример:\n",
        "\n",
        "`Введите год:` 2024\n",
        "\n",
        "`Ваш год високосный!`"
      ],
      "metadata": {
        "id": "qHXcBMUJcP91"
      }
    },
    {
      "cell_type": "code",
      "source": [
        "if int(input())%4==0:\n",
        "    print('Ваш год високосный!')\n",
        "else:\n",
        "    print('Ваш год невисокосный!')"
      ],
      "metadata": {
        "id": "5zIg47mwcKKr",
        "colab": {
          "base_uri": "https://localhost:8080/"
        },
        "outputId": "7863022c-b8c5-4a5c-92fc-5ff2b797b0e9"
      },
      "execution_count": null,
      "outputs": [
        {
          "output_type": "stream",
          "name": "stdout",
          "text": [
            "3532535\n",
            "Ваш год невисокосный!\n"
          ]
        }
      ]
    },
    {
      "cell_type": "markdown",
      "source": [
        "Задание 7: Необходимо создать простой калькулятор, который позволяет пользователю выбрать одну из четырёх операций (+, -, *, /), ввести два числа и получить результат выполнения операции.\n",
        "\n",
        "`Введите операцию:`\n",
        "\n",
        "`Введите первое число:`\n",
        "\n",
        "`Введите второе число:`\n",
        "\n",
        "`Результат выполнения: `\n"
      ],
      "metadata": {
        "id": "CYaQ69kucdhj"
      }
    },
    {
      "cell_type": "code",
      "source": [
        "operation= (input('Введите операцию:'))\n",
        "number1, number2 = int(input('Введите первое число:')), int(input('Введите второе число:'))\n",
        "\n",
        "\n",
        "match operation:\n",
        "    case '/':\n",
        "        print('Результат выполнения:', number1/number2)\n",
        "    case '+':\n",
        "        print('Результат выполнения:', number1+number2)\n",
        "    case '-':\n",
        "        print('Результат выполнения:', number1-number2)\n",
        "    case '*':\n",
        "        print('Результат выполнения:', number1*number2)\n"
      ],
      "metadata": {
        "id": "wR5UyEf7ciIE",
        "colab": {
          "base_uri": "https://localhost:8080/"
        },
        "outputId": "3d6ec62b-5a64-4242-ff0b-ae8377b40a4d"
      },
      "execution_count": null,
      "outputs": [
        {
          "output_type": "stream",
          "name": "stdout",
          "text": [
            "Введите операцию:*\n",
            "Введите первое число:124\n",
            "Введите второе число:421905878934\n",
            "Результат выполнения: 52316328987816\n"
          ]
        }
      ]
    },
    {
      "cell_type": "markdown",
      "source": [
        "# Практика 0.2.1"
      ],
      "metadata": {
        "id": "XWBhGpdEFo-U"
      }
    },
    {
      "cell_type": "markdown",
      "source": [
        "**Шахматы**\n",
        "\n",
        "Даны стартовые и конечные координаты, а также фигура\n",
        "\n",
        "Необходимо определить, может ли заданная фигура так ходить?"
      ],
      "metadata": {
        "id": "9Lw9odpqFwtn"
      }
    },
    {
      "cell_type": "code",
      "source": [
        "def is_valid_move(piece, start, end):\n",
        "    x1, y1 = start\n",
        "    x2, y2 = end\n",
        "\n",
        "    dx = abs(x2 - x1)\n",
        "    dy = abs(y2 - y1)\n",
        "\n",
        "    if piece == 'king': #korol\n",
        "        return (dx <= 1) and (dy <= 1)\n",
        "    elif piece == 'queen': #ferz\n",
        "        return (dx == dy) or (x1 == x2) or (y1 == y2)\n",
        "    elif piece == 'bishop': #slon\n",
        "        return dx == dy\n",
        "    elif piece == 'knight': #kon\n",
        "        return (dx == 2 and dy == 1) or (dx == 1 and dy == 2)\n",
        "    elif piece == 'rook': #ladya\n",
        "        return (x1 == x2 )or (y1 == y2)\n",
        "    elif piece == 'pawn':#peshka\n",
        "        if (x1 == x2 ) and (y2 == y1 + 1):\n",
        "            return True\n",
        "        elif (x1 == x2) and (y1 == 2) and (y2 == 4):\n",
        "            return True\n",
        "        elif (dx == 1) and (y2 == y1 + 1):\n",
        "            return True\n",
        "        else:\n",
        "            return False\n",
        "\n",
        "\n",
        "start_pos = (1, 1)\n",
        "end_pos = (1, 2)\n",
        "piece_type = input()\n",
        "\n",
        "if is_valid_move(piece_type, start_pos, end_pos):\n",
        "    print(f\"{piece_type} может сделать этот ход\")\n",
        "else:\n",
        "    print(f\"{piece_type} не может сделать этот ход\")"
      ],
      "metadata": {
        "id": "9IICo0p3F07P"
      },
      "execution_count": null,
      "outputs": []
    },
    {
      "cell_type": "markdown",
      "source": [
        "# Практика 0.2.2\n",
        "\n",
        "**Цифра на определенном месте:**\n",
        "\n",
        "Последовательно записан натуральный ряд чисел.\n",
        "\n",
        "Какая цифра стоит в N позиции"
      ],
      "metadata": {
        "id": "wI5bLNpHGDmO"
      }
    },
    {
      "cell_type": "code",
      "source": [
        "number_of_numbers = 9/10\n",
        "n=12\n",
        "k=1 # число левой границы\n",
        "v=0 # количество цифр в одном числе в промежутке\n",
        "while True:\n",
        "    if k + (v*number_of_numbers) <= n < k + (v*number_of_numbers) + (v+1)*(number_of_numbers*10):\n",
        "        interval=([int(k + (v*number_of_numbers)), int(k + (v*number_of_numbers) + (v+1)*(number_of_numbers*10)), v+1])\n",
        "        break\n",
        "    k+=v*number_of_numbers\n",
        "    v+=1\n",
        "    number_of_numbers*=10\n",
        "\n",
        "ost=(n-interval[0])%interval[2]\n",
        "\n",
        "res=10**(interval[2]-1) + (n-interval[0])//interval[2]\n",
        "\n",
        "print(str(res)[ost])\n",
        "\n"
      ],
      "metadata": {
        "id": "XLm_zFGzGNsU",
        "colab": {
          "base_uri": "https://localhost:8080/"
        },
        "outputId": "7452497f-7d10-4396-9b37-2faee8428b8c"
      },
      "execution_count": null,
      "outputs": [
        {
          "output_type": "stream",
          "name": "stdout",
          "text": [
            "1\n"
          ]
        }
      ]
    },
    {
      "cell_type": "markdown",
      "source": [
        "# Практика 0.2.3\n",
        "\n",
        "\n",
        "Возьмите код из задания 7 и улучшите ваш калькулятор следующим образом:\n",
        "\n",
        "Пользователь вводит строку вида:\n",
        "\n",
        "(5+5)*5 - данная строка содержит в себе математическое выражение, а также скобки\n",
        "\n",
        "Ваша программа должная понять что за математическое выражение записано, проверить верно ли оно записано (пример неверного заполнения: (5(+)5)*5, а также расчитать его в соотвествии с правилами математики"
      ],
      "metadata": {
        "id": "dpxTJv-scnMy"
      }
    },
    {
      "cell_type": "code",
      "source": [
        "operation= (input('Введите операцию:'))\n",
        "exec(f'print({operation})')\n",
        "\n",
        "\n",
        "\n",
        "\n"
      ],
      "metadata": {
        "id": "18gOluyHcmmf",
        "colab": {
          "base_uri": "https://localhost:8080/"
        },
        "outputId": "708390f6-50f5-45dd-a476-4c59d0d741e4"
      },
      "execution_count": null,
      "outputs": [
        {
          "output_type": "stream",
          "name": "stdout",
          "text": [
            "Введите операцию:(2+2)\n",
            "4\n"
          ]
        }
      ]
    }
  ]
}