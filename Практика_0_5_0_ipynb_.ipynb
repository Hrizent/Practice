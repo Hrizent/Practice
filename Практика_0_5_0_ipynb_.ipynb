{
  "nbformat": 4,
  "nbformat_minor": 0,
  "metadata": {
    "colab": {
      "provenance": []
    },
    "kernelspec": {
      "name": "python3",
      "display_name": "Python 3"
    },
    "language_info": {
      "name": "python"
    }
  },
  "cells": [
    {
      "cell_type": "markdown",
      "source": [
        "ФИО:"
      ],
      "metadata": {
        "id": "Bu5gIJfHNPHw"
      }
    },
    {
      "cell_type": "code",
      "execution_count": null,
      "metadata": {
        "id": "CbHI8c7cM9Eg"
      },
      "outputs": [],
      "source": [
        "Есмуханов Арман Еркинович"
      ]
    },
    {
      "cell_type": "markdown",
      "source": [
        "# **Задание 1**"
      ],
      "metadata": {
        "id": "VrNrBpmocGRd"
      }
    },
    {
      "cell_type": "markdown",
      "source": [
        "\n",
        "\n",
        "Дан словарь, содержащий имена и возраст людей, напишите программу выводящую возраст человека по имени\n",
        "\n",
        "Дано:\n",
        "\n",
        "```\n",
        "{\"Alice\": 25, \"Bob\": 30, \"Charlie\": 35}\n",
        "```\n",
        "\n",
        "Вввод:\n",
        "\n",
        "\n",
        "```\n",
        "Alice\n",
        "```\n",
        "\n",
        "Вывод:\n",
        "\n",
        "\n",
        "```\n",
        "Alice 25\n",
        "```\n"
      ],
      "metadata": {
        "id": "XhV1bnm1bR2h"
      }
    },
    {
      "cell_type": "code",
      "source": [
        "names={\"Alice\": 25, \"Bob\": 30, \"Charlie\": 35}\n",
        "name=input()\n",
        "print(name, names[name])"
      ],
      "metadata": {
        "id": "9T0nNFCEbpaF",
        "colab": {
          "base_uri": "https://localhost:8080/"
        },
        "outputId": "6641c858-a2ff-4c80-9543-d4e042c9c5c5"
      },
      "execution_count": null,
      "outputs": [
        {
          "output_type": "stream",
          "name": "stdout",
          "text": [
            "Alice\n",
            "Alice 25\n"
          ]
        }
      ]
    },
    {
      "cell_type": "markdown",
      "source": [
        "# **Задание 2**\n"
      ],
      "metadata": {
        "id": "lpjJz-_YcJ-t"
      }
    },
    {
      "cell_type": "markdown",
      "source": [
        "\n",
        "\n",
        "Дан список, состоящий из целых чисел, необходимо написать функцию считающую сумму всех положительных четных чисел списка\n",
        "\n",
        "Ввод:\n",
        "\n",
        "```\n",
        "1, 2, 3, 4, 5, 6, 7, 8, 9\n",
        "```\n",
        "\n",
        "Вывод:\n",
        "\n",
        "\n",
        "```\n",
        "20\n",
        "```\n",
        "\n",
        "***Запрещено:***\n",
        "\n",
        "*   Использование готовых функций для суммирования чисел\n"
      ],
      "metadata": {
        "id": "tMEsAB4rUiWW"
      }
    },
    {
      "cell_type": "code",
      "source": [
        "nums=list(map(int, input().split(', ')))\n",
        "sm=0\n",
        "for i in nums:\n",
        "  if i%2==0 and (i>0):\n",
        "    sm+=i\n",
        "print(sm)"
      ],
      "metadata": {
        "id": "wDNUFLeqNQS_",
        "colab": {
          "base_uri": "https://localhost:8080/"
        },
        "outputId": "9f46f771-825e-4416-bd76-eb584eb3a4bc"
      },
      "execution_count": null,
      "outputs": [
        {
          "output_type": "stream",
          "name": "stdout",
          "text": [
            "1, 2, 3, 4, 5, 6, 7, 8, 9\n",
            "20\n"
          ]
        }
      ]
    },
    {
      "cell_type": "markdown",
      "source": [
        "# **Задание 3**"
      ],
      "metadata": {
        "id": "WT_v-vz1dUZJ"
      }
    },
    {
      "cell_type": "markdown",
      "source": [
        "Дан словарь, содержащий название фрукта и его цвет, выведите список всех желтых фруктов\n",
        "\n",
        "\n",
        "Дано:\n",
        "\n",
        "```\n",
        "fruits_and_flowers = {\n",
        "    \"apple\": \"rose\",\n",
        "    \"banana\": \"lily\",\n",
        "    \"mango\": \"sunflower\",\n",
        "    \"orange\": \"daisy\",\n",
        "    \"lemon\": \"tulip\",\n",
        "    \"grape\": \"orchid\"\n",
        "}\n",
        "```\n",
        "\n",
        "Вывод:\n",
        "\n",
        "\n",
        "```\n",
        "Yellow fruits:\n",
        "banana\n",
        "lemon\n",
        "mango\n",
        "```\n",
        "\n"
      ],
      "metadata": {
        "id": "ZI5Xeh2DdXgF"
      }
    },
    {
      "cell_type": "code",
      "source": [
        "fruits_and_flowers = {\n",
        "    \"apple\": \"green\",\n",
        "    \"banana\": \"yellow\",\n",
        "    \"mango\": \"yellow\",\n",
        "    \"orange\": \"orange\",\n",
        "    \"lemon\": \"yellow\",\n",
        "    \"grape\": \"green\"\n",
        "}\n",
        "print('Yellow fruits')\n",
        "for i in fruits_and_flowers.keys():\n",
        "  if fruits_and_flowers[i]=='yellow':\n",
        "    print(i)\n"
      ],
      "metadata": {
        "id": "aNzFTkhKdkTG",
        "colab": {
          "base_uri": "https://localhost:8080/"
        },
        "outputId": "0fb33b1c-a43f-4548-97d3-6e27c8cd86f9"
      },
      "execution_count": null,
      "outputs": [
        {
          "output_type": "stream",
          "name": "stdout",
          "text": [
            "Yellow fruits\n",
            "banana\n",
            "mango\n",
            "lemon\n"
          ]
        }
      ]
    },
    {
      "cell_type": "markdown",
      "source": [
        "# **Задание 4**\n"
      ],
      "metadata": {
        "id": "iHtMGt2icM7w"
      }
    },
    {
      "cell_type": "markdown",
      "source": [
        "\n",
        "\n",
        "Дан словарь, необходимо написать функцию меняющую ключ и значение местами\n",
        "\n",
        "Дано:\n",
        "\n",
        "\n",
        "```\n",
        "{\"a\": 1, \"b\": 2, \"c\": 3}\n",
        "```\n",
        "\n",
        "Вывод:\n",
        "\n",
        "```\n",
        "{1: 'a', 2: 'b', 3: 'c'}\n",
        "```\n",
        "\n"
      ],
      "metadata": {
        "id": "rS3THsnBQ_EB"
      }
    },
    {
      "cell_type": "code",
      "source": [
        "def swap(dictr: dict):\n",
        "  dummy={}\n",
        "  for i,j in dictr.items():\n",
        "    dummy[j]=i\n",
        "  return dummy\n",
        "print(swap({\"a\": 1, \"b\": 2, \"c\": 3}))\n",
        "\n"
      ],
      "metadata": {
        "id": "MNRusyLDcQ59",
        "colab": {
          "base_uri": "https://localhost:8080/"
        },
        "outputId": "563c2b68-dc38-4cd3-97a6-69be624c0947"
      },
      "execution_count": null,
      "outputs": [
        {
          "output_type": "stream",
          "name": "stdout",
          "text": [
            "{1: 'a', 2: 'b', 3: 'c'}\n"
          ]
        }
      ]
    },
    {
      "cell_type": "markdown",
      "source": [
        "# **Задание 5**"
      ],
      "metadata": {
        "id": "x6ff5nd0cUxD"
      }
    },
    {
      "cell_type": "markdown",
      "source": [
        "Дан список слов, неограниченной длинны, сформируйте словарь, где в качестве ключа будет слово, а в качестве значения количество символов\n",
        "\n",
        "**Критерии**\n",
        "\n",
        "\n",
        "*   Словарь необходимо отсортировать по убыванию количества элементов в списке.\n",
        "*   Подсчет элементов должен быть реализован в отдельной функции\n",
        "*   Сортировка пары `ключ:значение` должна быть реализована также в виде отдельной функции\n",
        "\n",
        "\n",
        "\n",
        "\n",
        "Дано:\n",
        "```\n",
        "['apple','banana','orange','apple','apple','banana']\n",
        "```\n",
        "\n",
        "\n",
        "Вывод:\n",
        "```\n",
        "{'apple':3, 'banana': 2, 'orange': 1}\n",
        "```\n",
        "\n",
        "***Запрещено:***\n",
        "\n",
        "*   Использование готовых функций для сортировки словаря\n",
        "*   Использование готовых функций для подсчета элементов\n",
        "\n"
      ],
      "metadata": {
        "id": "ypQNHOG4NQz3"
      }
    },
    {
      "cell_type": "code",
      "source": [
        "words=['banana','orange','apple','apple','banana']\n",
        "\n",
        "def count_elem(words) -> dict:\n",
        "  dic={}\n",
        "  for word in words:\n",
        "    cnt=0\n",
        "    for j in words:\n",
        "      if word==j:\n",
        "        cnt+=1\n",
        "    dic[word]=cnt\n",
        "  return dic\n",
        "\n",
        "def sort_dict(d: dict):\n",
        "  dic={}\n",
        "  values=dict(sorted(list(d.items())))\n",
        "  return values\n",
        "print(sort_dict(count_elem(words)))"
      ],
      "metadata": {
        "id": "J10PjdVQUbyq",
        "colab": {
          "base_uri": "https://localhost:8080/"
        },
        "outputId": "e3d91ed4-e38f-4ed5-d8ff-8373df393001"
      },
      "execution_count": null,
      "outputs": [
        {
          "output_type": "stream",
          "name": "stdout",
          "text": [
            "{'apple': 2, 'banana': 2, 'orange': 1}\n"
          ]
        }
      ]
    },
    {
      "cell_type": "markdown",
      "source": [
        "# **Задание 6**"
      ],
      "metadata": {
        "id": "d7fDUr2WcY_G"
      }
    },
    {
      "cell_type": "markdown",
      "source": [
        "Дан словарь, содержащий информацию о людях, необходимо:\n",
        "\n",
        "\n",
        "\n",
        "*   Вывести всех людей старше 30 лет\n",
        "*   Вывести список городов и количество людей из словаря проживающих в них\n",
        "*   Вывести список профессий и список людей для каждой профессии\n",
        "\n",
        "**Критерии**\n",
        "\n",
        "Каждый из пунктов необходимо реализовать в виде функции\n",
        "\n"
      ],
      "metadata": {
        "id": "m11qdVhSWBi7"
      }
    },
    {
      "cell_type": "code",
      "source": [
        "people_info = {\n",
        "    \"Alice\": {\"age\": 25, \"city\": \"New York\", \"occupation\": \"Engineer\"},\n",
        "    \"Bob\": {\"age\": 30, \"city\": \"Los Angeles\", \"occupation\": \"Designer\"},\n",
        "    \"Charlie\": {\"age\": 35, \"city\": \"Chicago\", \"occupation\": \"Teacher\"},\n",
        "    \"Diana\": {\"age\": 28, \"city\": \"Miami\", \"occupation\": \"Doctor\"},\n",
        "    \"Ethan\": {\"age\": 40, \"city\": \"Seattle\", \"occupation\": \"Chef\"},\n",
        "    \"Frank\": {\"age\": 32, \"city\": \"Atlanta\", \"occupation\": \"Lawyer\"},\n",
        "    \"Gabriella\": {\"age\": 29, \"city\": \"San Francisco\", \"occupation\": \"Software Engineer\"},\n",
        "    \"Harrison\": {\"age\": 38, \"city\": \"Denver\", \"occupation\": \"Architect\"},\n",
        "    \"Isabella\": {\"age\": 26, \"city\": \"Washington D.C.\", \"occupation\": \"Journalist\"},\n",
        "    \"Julian\": {\"age\": 42, \"city\": \"Miami\", \"occupation\": \"Musician\"},\n",
        "    \"Kate\": {\"age\": 31, \"city\": \"Philadelphia\", \"occupation\": \"Nurse\"},\n",
        "    \"Lucas\": {\"age\": 36, \"city\": \"Nashville\", \"occupation\": \"Businessman\"},\n",
        "    \"Mia\": {\"age\": 27, \"city\": \"Atlanta\", \"occupation\": \"Artist\"},\n",
        "    \"Natalie\": {\"age\": 39, \"city\": \"Portland\", \"occupation\": \"Writer\"},\n",
        "    \"Oliver\": {\"age\": 44, \"city\": \"Minneapolis\", \"occupation\": \"Professor\"},\n",
        "    \"Penelope\": {\"age\": 33, \"city\": \"San Diego\", \"occupation\": \"Marketing Manager\"},\n",
        "    \"Quincy\": {\"age\": 41, \"city\": \"Nashville\", \"occupation\": \"Singer\"},\n",
        "    \"Rachel\": {\"age\": 34, \"city\": \"Cleveland\", \"occupation\": \"Teacher\"},\n",
        "    \"Sophia\": {\"age\": 29, \"city\": \"Nashville\", \"occupation\": \"Engineer\"},\n",
        "    \"Tessa\": {\"age\": 37, \"city\": \"Miami\", \"occupation\": \"Lawyer\"}\n",
        "}"
      ],
      "metadata": {
        "id": "lSNtB39OWtFl"
      },
      "execution_count": null,
      "outputs": []
    },
    {
      "cell_type": "code",
      "source": [
        "def print_older30(info):\n",
        "  for person in info:\n",
        "    if info[person]['age']>30:\n",
        "      print(person)\n",
        "\n",
        "def print_cities(info):\n",
        "  cities_unique=set()\n",
        "\n",
        "  for person in info:\n",
        "    cities_unique.add(info[person]['city'])\n",
        "  cities_unique={a: 0 for a in cities_unique}\n",
        "  for person in info:\n",
        "    for city in cities_unique:\n",
        "      if info[person]['city'] == city:\n",
        "        cities_unique[city]+=1\n",
        "  print(cities_unique)\n",
        "\n",
        "def print_occupations(info):\n",
        "  occupations_unique=set()\n",
        "\n",
        "  for person in info:\n",
        "    occupations_unique.add(info[person]['occupation'])\n",
        "  occupations_unique={a: [] for a in occupations_unique}\n",
        "  for person in info:\n",
        "    for occ in occupations_unique:\n",
        "      if info[person]['occupation'] == occ:\n",
        "        occupations_unique[occ]+=[person]\n",
        "  print(occupations_unique)\n",
        "\n",
        "print_occupations(people_info)"
      ],
      "metadata": {
        "id": "qcLO5eQwXkNK",
        "colab": {
          "base_uri": "https://localhost:8080/"
        },
        "outputId": "75f0eb80-676f-44ec-f251-654b9f87e141"
      },
      "execution_count": null,
      "outputs": [
        {
          "output_type": "stream",
          "name": "stdout",
          "text": [
            "{'Software Engineer': ['Gabriella'], 'Musician': ['Julian'], 'Businessman': ['Lucas'], 'Architect': ['Harrison'], 'Artist': ['Mia'], 'Doctor': ['Diana'], 'Lawyer': ['Frank', 'Tessa'], 'Teacher': ['Charlie', 'Rachel'], 'Professor': ['Oliver'], 'Designer': ['Bob'], 'Chef': ['Ethan'], 'Marketing Manager': ['Penelope'], 'Engineer': ['Alice', 'Sophia'], 'Journalist': ['Isabella'], 'Nurse': ['Kate'], 'Singer': ['Quincy'], 'Writer': ['Natalie']}\n"
          ]
        }
      ]
    },
    {
      "cell_type": "markdown",
      "source": [
        "# **Задание 7**"
      ],
      "metadata": {
        "id": "27IuB2YScezw"
      }
    },
    {
      "cell_type": "markdown",
      "source": [
        "Задание: Разработка системы отзывов о предметах\n",
        "\n",
        "Описание: Создать программу на Python для хранения и управления отзывами о предметах учебного курса. Программа должна позволять пользователям добавлять, просматривать и удалять отзывы, а также вычислять средний балл по заданному предмету.\n",
        "\n",
        "**Функционал:**\n",
        "\n",
        "*   Добавление отзыва и оценки:\n",
        "   *   Пользователь может ввести название предмета, оценку (от 1 до 5) и текст отзыва.\n",
        "   *   Отзывы должны храниться в структуре данных (например, словаре), где ключом будет название предмета, а значением - список отзывов (каждый отзыв может хранить оценку и комментарий).\n",
        "*   Просмотр отзывов и оценок:\n",
        "   *   Пользователь может запросить отзывы для указанного предмета.\n",
        "   *   Если для указанного предмета есть отзывы, программа должна отобразить список всех отзывов и соответствующих оценок.\n",
        "*   Удаление отзыва:\n",
        "   *   Пользователь может удалить отзыв по индексу. Необходимо заранее уведомить пользователя о том, какие отзывы доступны для удаления.\n",
        "   *   Программа должна обработать ситуацию, когда индекс введен неправильно.\n",
        "*   Вычисление среднего балла по предмету:\n",
        "   *   Пользователь может ввести название предмета, и программа должна вычислить и вывести средний балл по всем отзывам для этого предмета.\n",
        "   *   Если отзывов нет, программа должна сообщить об этом.\n",
        "\n",
        "\n",
        "**Критерии:**\n",
        "\n",
        "*   Код должен быть оформлен в виде функций\n",
        "*   Необходимо обрабатывать неправильный ввод пользователя\n",
        "*   Должны быть комментарии к функциям\n",
        "*   Присутсвует весь дополнительный функционал\n",
        "\n",
        "\n",
        "\n",
        "**Опционально:**\n",
        "\n",
        "Предлагаю вам добавить свои критерии оценки или вопросы, на которые должен ответить студент, чтобы оценить пару\n",
        "\n",
        "\n"
      ],
      "metadata": {
        "id": "Fd95-S9cYhct"
      }
    },
    {
      "cell_type": "code",
      "source": [
        "ratings={a:[[2, 'penix']] for a in ['математика', 'химия', \"биология\", \"физкультура\", \"русский язык\", \"физика\"]}\n",
        "def add_rating():\n",
        "  try:\n",
        "    subject=input('Введите название предмета: ')\n",
        "    rating=int(input(\"Введите оценку предмета от 1 до 5: \"))\n",
        "    text=input(\"Введите текст отзыва: \")\n",
        "    ratings[subject] += [[rating, text]]\n",
        "    return 'отзыв добавлен'\n",
        "  except:\n",
        "    return 'шота пошло не так, введите правильные данные'\n",
        "\n",
        "\n",
        "def show_ratings():\n",
        "  try:\n",
        "    subject=input('Введите название предмета, чтобы показать на него оценки: ')\n",
        "    if ratings[subject]:\n",
        "      return ratings[subject]\n",
        "    return 'для предмета %s нет отзывов' % subject\n",
        "  except:\n",
        "    return 'шота пошло не так, введите правильные данные'\n",
        "\n",
        "def del_rating():\n",
        "  try:\n",
        "    subject=input('Введите название предмета, отзыв о котором вы хотите удалить: ')\n",
        "    c=0\n",
        "    for i in ratings[subject]:\n",
        "      print(f'Для отзыва <{i[1]}> индекс {c}')\n",
        "      c+=1\n",
        "    ind=input('Введите индекс оценки для его удаления: ')\n",
        "    ratings[subject].pop(ind)\n",
        "    return \"отзыв удален\"\n",
        "\n",
        "  except:\n",
        "     return 'шота пошло не так, введите правильные данные'\n",
        "\n",
        "def calc_subj_mean():\n",
        "  try:\n",
        "    subject=input('Введите название предмета для вычисления среднего балла: ')\n",
        "    if ratings[subject] != []:\n",
        "        total_rating=0\n",
        "        for ratings_list in ratings[subject]:\n",
        "            total_rating+=ratings_list[0]\n",
        "        return total_rating/len(ratings[subject])\n",
        "    else:\n",
        "        return 'для предмета %s нет отзывов' % subject\n",
        "  except:\n",
        "     return 'шота пошло не так, введите правильные данные'"
      ],
      "metadata": {
        "id": "kzucJrCUa0o7",
        "colab": {
          "base_uri": "https://localhost:8080/",
          "height": 192
        },
        "outputId": "dd35436c-0715-4833-ed95-73ca97015cf4"
      },
      "execution_count": null,
      "outputs": [
        {
          "name": "stdout",
          "output_type": "stream",
          "text": [
            "Введите название предмета: математика\n",
            "Введите оценку предмета от 1 до 5: 2\n",
            "Введите текст отзыва: хуйня\n",
            "Введите название предмета, чтобы показать на него оценки: математика\n",
            "для предмета математика нет отзывов\n",
            "Введите название предмета для вычисления среднего балла: математика\n",
            "Введите название предмета, отзыв о котором вы хотите удалить: математика\n",
            "Введите индекс оценки для его удаления: 1\n",
            "Введите название предмета, чтобы показать на него оценки: 2\n"
          ]
        },
        {
          "output_type": "execute_result",
          "data": {
            "text/plain": [
              "'шота пошло не так, введите правильные данные'"
            ],
            "application/vnd.google.colaboratory.intrinsic+json": {
              "type": "string"
            }
          },
          "metadata": {},
          "execution_count": 1
        }
      ]
    }
  ]
}