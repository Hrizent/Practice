{
  "nbformat": 4,
  "nbformat_minor": 0,
  "metadata": {
    "colab": {
      "provenance": []
    },
    "kernelspec": {
      "name": "python3",
      "display_name": "Python 3"
    },
    "language_info": {
      "name": "python"
    }
  },
  "cells": [
    {
      "cell_type": "markdown",
      "source": [
        "Введите ваше ФИО:"
      ],
      "metadata": {
        "id": "k8oVfdwrMXyc"
      }
    },
    {
      "cell_type": "code",
      "execution_count": null,
      "metadata": {
        "id": "5mcBLsKMI1-5"
      },
      "outputs": [],
      "source": [
        "Есмуханов Арман Еркинович"
      ]
    },
    {
      "cell_type": "markdown",
      "source": [
        "***Дисклеймер***\n",
        "\n",
        "В данной практике запрещено использования функций:\n",
        "\n",
        "\n",
        "*   sum()\n",
        "*   min()\n",
        "*   max()\n",
        "*   average()\n",
        "*   reversed()\n",
        "*   sorted()\n",
        "*   готовые функции или библиотеки\n"
      ],
      "metadata": {
        "id": "8HbYUbm3Jw3o"
      }
    },
    {
      "cell_type": "markdown",
      "source": [
        "\n",
        "**Задача 1:**\n",
        "\n",
        "\n",
        "\n",
        "Интернет-магазин предлагает следующие условия скидок:\n",
        "\n",
        "*   Для заказов больше 1000 единиц, клиент получает скидку 5%. Если клиент использует промокод SUPERDISCOUNT, он получает скидку 10% (вместо 5%).\n",
        "*  Для заказов более 5000 единиц, клиент получает скидку 15%, а использование промокода SUPERDISCOUNT увеличивает скидку до 20% (вместо 15%).\n",
        "\n",
        "Этап 1:\n",
        "Ввод:\n",
        "```\n",
        "Введите стоимость единицы товара: 5\n",
        "Введите количество товара: 1001\n",
        "Введите промокод: GiVEMEDISCONT\n",
        "```\n",
        "\n",
        "Вывод:\n",
        "\n",
        "```\n",
        "Ваша скидка: 5%\n",
        "Итоговая сумма: 4754.75\n",
        "```\n",
        "Этап 2:\n",
        "\n",
        "Оформите ваш код в виде функции"
      ],
      "metadata": {
        "id": "HmX0c6YPJSQr"
      }
    },
    {
      "cell_type": "code",
      "source": [
        "def calc_discount(price, quantity, promo_code):\n",
        "    total_price = price * quantity\n",
        "    discount = 0\n",
        "    if quantity > 5000:\n",
        "        discount = 0.15\n",
        "        if promo_code == \"SUPERDISCOUNT\":\n",
        "            discount = 0.20\n",
        "    elif quantity > 1000:\n",
        "        discount = 0.05\n",
        "        if promo_code == \"SUPERDISCOUNT\":\n",
        "            discount = 0.10\n",
        "    discount_amount = total_price * discount\n",
        "    final_price = total_price - discount_amount\n",
        "    print(f\"Ваша скидка: {str(discount * 100)[:-2]}%\")\n",
        "    print(f\"Итоговая сумма: {final_price}\")\n",
        "\n",
        "\n",
        "price = float(input(\"Введите стоимость единицы товара: \"))\n",
        "quantity = int(input(\"Введите количество товара: \"))\n",
        "promo_code = input(\"Введите промокод: \")\n",
        "\n",
        "calc_discount(price, quantity, promo_code)\n"
      ],
      "metadata": {
        "id": "OAIMIpklMN5D",
        "outputId": "73857810-7caf-4363-d9b0-dfd1064e593d",
        "colab": {
          "base_uri": "https://localhost:8080/"
        }
      },
      "execution_count": null,
      "outputs": [
        {
          "output_type": "stream",
          "name": "stdout",
          "text": [
            "Введите стоимость единицы товара: 1\n",
            "Введите количество товара: 1001\n",
            "Введите промокод: SUPERDISCOUNT\n",
            "Ваша скидка: 10%\n",
            "Итоговая сумма: 900.9\n"
          ]
        }
      ]
    },
    {
      "cell_type": "markdown",
      "source": [
        "**Задача 2:**\n",
        "\n",
        "Этап 1:\n",
        "Напишите программу способную отфильтровать список и вывести только положительные элементы\n",
        "\n",
        "\n",
        "Ввод:\n",
        "```\n",
        "-1 5 1 2 -3\n",
        "```\n",
        "\n",
        "Вывод:\n",
        "\n",
        "```\n",
        "5 1 2\n",
        "```\n",
        "\n",
        "Этап 2:\n",
        "\n",
        "Оформите ваш код в виде функции"
      ],
      "metadata": {
        "id": "eeRVWpuLNGJ0"
      }
    },
    {
      "cell_type": "code",
      "source": [
        "def list_filter(ls):\n",
        "  ls = list(map(int, ls.split(' ')))\n",
        "  filtered_ls=[]\n",
        "  for i in ls:\n",
        "    if i>0:\n",
        "      filtered_ls.append(i)\n",
        "  return filtered_ls\n",
        "print(list_filter(input()))"
      ],
      "metadata": {
        "id": "Xbi6bL0WOE9N",
        "outputId": "49166223-1b2d-48f0-b029-2023d64457e7",
        "colab": {
          "base_uri": "https://localhost:8080/"
        }
      },
      "execution_count": null,
      "outputs": [
        {
          "output_type": "stream",
          "name": "stdout",
          "text": [
            "2 4 -1 -100 -10\n",
            "[2, 4]\n"
          ]
        }
      ]
    },
    {
      "cell_type": "markdown",
      "source": [
        "**Задача 3:**\n",
        "\n",
        "Этап 1:\n",
        "Напишите программу реализующую Алгоритм Евклида\n",
        "\n",
        "\n",
        "> Алгоритм Евклида – это алгоритм нахождения наибольшего общего делителя (НОД) пары целых чисел.\n",
        "\n",
        "Чуть подробнее, если вы забыли: [link](https://skysmart.ru/articles/mathematic/naibolshij-obshchij-delitel)\n",
        "\n",
        "\n",
        "Ввод:\n",
        "```\n",
        "30 18\n",
        "```\n",
        "\n",
        "Вывод:\n",
        "\n",
        "```\n",
        "6\n",
        "```\n",
        "\n",
        "Этап 2:\n",
        "Оформите ваш код в виде функции\n"
      ],
      "metadata": {
        "id": "lV-w6G-POa6F"
      }
    },
    {
      "cell_type": "code",
      "source": [
        "def euclid(a,b):\n",
        "  if a>b:\n",
        "    return euclid(a-b,b)\n",
        "  elif a<b:\n",
        "    return euclid(a,b-a)\n",
        "  elif a==b:\n",
        "    return a\n"
      ],
      "metadata": {
        "id": "X2n6fnd91yt7"
      },
      "execution_count": null,
      "outputs": []
    },
    {
      "cell_type": "code",
      "source": [],
      "metadata": {
        "id": "43Dl5tIpOZsu"
      },
      "execution_count": null,
      "outputs": []
    },
    {
      "cell_type": "markdown",
      "source": [
        "**Задача 4:**\n",
        "\n",
        "Этап 1:\n",
        "Напишите функцию программу, которая принимает строку и возвращает список слов и количество их упомнинаний в предложении\n",
        "\n",
        "Этап 2:\n",
        "Оформите ваш код в виде функции\n",
        "\n",
        "Ввод:\n",
        "```\n",
        "apple banana apple\n",
        "```\n",
        "\n",
        "Вывод:\n",
        "\n",
        "```\n",
        "apple: 2,\n",
        "banana: 1\n",
        "```"
      ],
      "metadata": {
        "id": "WIfPFxpsO0zL"
      }
    },
    {
      "cell_type": "code",
      "source": [
        "def count_words(sentence: str):\n",
        "  words=sentence.split(' ')\n",
        "  for word in set(words):\n",
        "    print(f'{word}: {words.count(word)}')\n",
        "\n",
        "count_words(input())"
      ],
      "metadata": {
        "id": "DgsmFeW5Po_x",
        "outputId": "398f5280-84b8-4d2d-aa65-7ecb09d6539d",
        "colab": {
          "base_uri": "https://localhost:8080/"
        }
      },
      "execution_count": null,
      "outputs": [
        {
          "output_type": "stream",
          "name": "stdout",
          "text": [
            "t e t e t y i k 2\n",
            "i: 1\n",
            "t: 3\n",
            "e: 2\n",
            "k: 1\n",
            "2: 1\n",
            "y: 1\n"
          ]
        }
      ]
    },
    {
      "cell_type": "markdown",
      "source": [
        "**Задача 5:**\n",
        "\n",
        "Этап 1:\n",
        "Детектор анаграмм Напишите программу на Python, которая принимает в качестве входных данных две строки и проверяет, являются ли они анаграммами друг друга\n",
        "\n",
        "Этап 2:\n",
        "Оформите ваш код в виде функции\n",
        "\n",
        "Ввод:\n",
        "```\n",
        "listen, silent\n",
        "```\n",
        "\n",
        "Вывод:\n",
        "\n",
        "```\n",
        "True\n",
        "```"
      ],
      "metadata": {
        "id": "5BmIJLUZP9I-"
      }
    },
    {
      "cell_type": "code",
      "source": [
        "def check_anagramm(s1,s2):\n",
        "  f=True\n",
        "  for letter1 in s1:\n",
        "    for letter2 in s2:\n",
        "        if s2.count(letter1) != s1.count(letter2):\n",
        "            f=False\n",
        "            break\n",
        "  return f"
      ],
      "metadata": {
        "id": "7LNW8DuHQJwH",
        "outputId": "b2f9913c-27a5-4889-de6e-7234f40575f0",
        "colab": {
          "base_uri": "https://localhost:8080/"
        }
      },
      "execution_count": null,
      "outputs": [
        {
          "output_type": "stream",
          "name": "stdout",
          "text": [
            "True\n"
          ]
        }
      ]
    },
    {
      "cell_type": "markdown",
      "source": [
        "**Задача 6:**\n",
        "\n",
        "Шифр ​​Цезаря\n",
        "\n",
        "Напишите программу на Python, которая реализует шифр Цезаря, простой метод шифрования, который заменяет каждую букву буквой на фиксированное количество позиций вниз по алфавиту. Программа должна запрашивать у пользователя сообщение и значение сдвига, а затем шифровать и расшифровывать сообщение.\n",
        "Подробнее о шифре Цезаря: [link](https://habr.com/ru/articles/534058/)\n",
        "\n",
        "Этап 1:\n",
        "\n",
        "Напишите код для реализации данной задачи\n",
        "\n",
        "Этап 2:\n",
        "\n",
        "Оформите код в виде нескольких функций:\n",
        "\n",
        "* Зашифровывает сообщение\n",
        "* Расшифровывает сообщение"
      ],
      "metadata": {
        "id": "-SIWYSq2QKBh"
      }
    },
    {
      "cell_type": "code",
      "source": [
        "letter=input(\"введите сообщение: \")\n",
        "shift=int(input('введите значение сдвига: '))\n",
        "\n",
        "def caesar_encrypt(text, shift):\n",
        "    global letter\n",
        "    alph='abcdefghijklmnopqrstuvwxyz'\n",
        "    text=list(text)\n",
        "    for i in range(len((text))):\n",
        "        text[i] = alph[(ord(text[i]) -97+ shift)%26]\n",
        "    letter=''.join(text)\n",
        "    return letter\n",
        "\n",
        "\n",
        "\n",
        "def caesar_decrypt(text, shift):\n",
        "    global letter\n",
        "    alph='abcdefghijklmnopqrstuvwxyz'\n",
        "    text=list(letter)\n",
        "    for i in range(len((text))):\n",
        "        text[i] = alph[(ord(text[i]) -97- shift)%26]\n",
        "    letter=''.join(text)\n",
        "    return letter\n",
        "\n",
        "print(caesar_encrypt(letter,shift))\n",
        "print(caesar_decrypt(letter,shift))"
      ],
      "metadata": {
        "id": "anThYirsQe6N",
        "outputId": "d283cc57-3d7c-4d3e-bba9-021d4126ac3c",
        "colab": {
          "base_uri": "https://localhost:8080/"
        }
      },
      "execution_count": null,
      "outputs": [
        {
          "output_type": "stream",
          "name": "stdout",
          "text": [
            "введите сообщение: razum\n",
            "введите значение сдвига: 3\n",
            "udcxp\n",
            "razum\n"
          ]
        }
      ]
    },
    {
      "cell_type": "markdown",
      "source": [
        "**Задача 7**\n",
        "\n",
        "Задача: «Банковская система»\n",
        "\n",
        "Создайте программу Python, которая имитирует базовую банковскую систему. Система должна иметь следующие функции:\n",
        "\n",
        "Требования\n",
        "*   Система должна позволять клиентам создавать счета и хранить их балансы.\n",
        "*   Система должна позволять клиентам вносить и снимать деньги со своих счетов.\n",
        "*   Система должна позволять клиентам проверять свой текущий баланс.\n",
        "*   Система должна позволять клиентам переводить деньги между счетами.\n",
        "*   Система должна отслеживать транзакции (депозиты, снятия и переводы) и иметь возможность печатать детали транзакций.\n",
        "\n",
        "\n",
        "Задачи\n",
        "1. Реализуйте банковскую систему, используя только базовые конструкции Python, такие как def, lists, if, elif и else, без классов или словарей.\n",
        "Определите функции для создания счетов, внесения и снятия денег, получения балансов счетов, перевода денег между счетами, а также создания и печати транзакций.\n",
        "2. Напишите основную функцию, которая демонстрирует использование банковской системы путем создания счетов, внесения и снятия денег и перевода денег между счетами.\n",
        "3. Бонусное задание\n",
        "Реализуйте способ хранения и печати истории транзакций для каждого счета.\n",
        "\n",
        "Ограничения\n",
        "Не используйте классы или словари.\n",
        "Используйте только базовые конструкции Python, такие как def, lists, if, elif и else.\n"
      ],
      "metadata": {
        "id": "avFZRRXrQz9O"
      }
    },
    {
      "cell_type": "code",
      "source": [
        "accounts = []\n",
        "transactions = []\n",
        "\n",
        "\n",
        "def create_account(account_number):\n",
        "    accounts.append([account_number, 0])\n",
        "    print(f\"счет {account_number} создан\")\n",
        "\n",
        "def deposit(account_number, amount):\n",
        "    for account in accounts:\n",
        "        if account[0] == account_number:\n",
        "            account[1] += amount\n",
        "            transactions.append([\"депозит\", account_number, amount])\n",
        "            print(f\"на счет {account_number} внесено {amount} рублей\")\n",
        "    print(f\"счет {account_number} не найден\")\n",
        "\n",
        "\n",
        "def withdraw(account_number, amount):\n",
        "    for account in accounts:\n",
        "        if account[0] == account_number:\n",
        "            if account[1] >= amount:\n",
        "                account[1] -= amount\n",
        "                transactions.append([\"снятие\", account_number, amount])\n",
        "                print(f\"с счета {account_number} снято {amount} рублей\")\n",
        "            else:\n",
        "                print(f\"недостаточно средств на счете {account_number}\")\n",
        "    print(f\"счет {account_number} не найден\")\n",
        "def check_balance(account_number):\n",
        "    for account in accounts:\n",
        "        if account[0] == account_number:\n",
        "            print(f\"юаланс счета {account_number}: {account[1]} рублей\")\n",
        "    print(f\"счет {account_number} не найден\")\n",
        "\n",
        "\n",
        "def transfer(from_account, to_account, amount):\n",
        "    from_found, to_found = False, False\n",
        "    for account in accounts:\n",
        "        if account[0] == from_account:\n",
        "            from_found = True\n",
        "            if account[1] >= amount:\n",
        "                for acc in accounts:\n",
        "                    if acc[0] == to_account:\n",
        "                        account[1] -= amount\n",
        "                        acc[1] += amount\n",
        "                        transactions.append([\"перевод\", from_account, amount, f\"на счет {to_account}\"])\n",
        "                        print(f\"переведено {amount} рублей со счета {from_account} на счет {to_account}\")\n",
        "                        to_found = True\n",
        "                        break\n",
        "                if not to_found:\n",
        "                    print(f\"счет {to_account} не найден\")\n",
        "            else:\n",
        "                print(f\"недостаточно средств на счете{from_account}\")\n",
        "            break\n",
        "    if not from_found:\n",
        "        print(f\"сет {from_account} не найден\")\n",
        "\n",
        "\n",
        "def print_transactions():\n",
        "    if not transactions:\n",
        "        print(\"Нет транзакций.\")\n",
        "    else:\n",
        "        for t in transactions:\n",
        "            if t[0] == \"перевод\":\n",
        "                print(f\"{t[0]}: {t[2]} рублей со счета {t[1]} {t[3]}\")\n",
        "            else:\n",
        "                print(f\"{t[0]}: {t[2]} рублей на счет {t[1]}\")\n",
        "\n",
        "def main():\n",
        "    create_account(1)\n",
        "    create_account(2)\n",
        "\n",
        "\n",
        "    deposit(1, 1000)\n",
        "    deposit(2, 200000000)\n",
        "\n",
        "    check_balance(1)\n",
        "    check_balance(2)\n",
        "\n",
        "    withdraw(1, 1000)\n",
        "    withdraw(2, 500)\n",
        "\n",
        "    transfer(2, 1, 2345)\n",
        "\n",
        "    check_balance(1)\n",
        "    check_balance(2)\n",
        "\n",
        "    print(\"История транзакций:\")\n",
        "    print_transactions()\n",
        "main()"
      ],
      "metadata": {
        "id": "dWEW10zIRwjs"
      },
      "execution_count": null,
      "outputs": []
    }
  ]
}